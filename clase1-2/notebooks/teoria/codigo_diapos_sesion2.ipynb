{
  "cells": [
    {
      "cell_type": "markdown",
      "metadata": {
        "id": "7r8fanU-KLea"
      },
      "source": [
        "**Disclaimer**:\n",
        "Tomado de los cursos:\n",
        "- “Introduction to Computer Science and Programming in Python” De MIT OpenCourseWare https://ocw.mit.edu/courses/electrical-engineering-and-computer-science/6-0001-introduction-to-computer-science-and-programming-in-python-fall-2016/\n",
        "\n"
      ]
    },
    {
      "cell_type": "markdown",
      "metadata": {
        "id": "KYjNwgzLxpAn"
      },
      "source": [
        "### Introducción a Python\n",
        "\n",
        "Python es un lenguaje de programación potente y fácil de aprender.\n",
        "Tiene eficientes *estructuras de datos de alto nivel* y un enfoque simple pero efectivo de la *programación orientada a objetos*.\n",
        "\n",
        "La **elegante sintaxis** de Python y su **tipado dinámico**, junto con su **naturaleza interpretada**, lo convierten en un lenguaje ideal para el scripting y el desarrollo rápido de aplicaciones en muchas áreas y en la mayoría de las plataformas.\n",
        "\n",
        "- Creado por Guido van Rossum.\n",
        "- Debe su nombre al programa de la BBC «Monty Python's Flying Circus»."
      ]
    },
    {
      "cell_type": "code",
      "execution_count": null,
      "metadata": {
        "id": "PgxMu3luxpAn",
        "outputId": "47616b12-28b8-49f5-8eeb-dbd230df57bf"
      },
      "outputs": [
        {
          "name": "stdout",
          "output_type": "stream",
          "text": [
            "Variable         Type        Data/Info\n",
            "--------------------------------------\n",
            "area             float       32.169881600000004\n",
            "builtins         module      <module 'builtins' (built-in)>\n",
            "debugpy          module      <module 'debugpy' from 'C<...>s\\\\debugpy\\\\__init__.py'>\n",
            "f                function    <function f at 0x00000113136936A0>\n",
            "file             str         C:\\Users\\NESTOR\\AppData\\L<...>kernel_28364\\894383171.py\n",
            "func_a           function    <function func_a at 0x000001131334D1C0>\n",
            "func_b           function    <function func_b at 0x000001131334DB20>\n",
            "func_c           function    <function func_c at 0x000001131334D3A0>\n",
            "g                function    <function g at 0x00000113136934C0>\n",
            "h                function    <function h at 0x0000011313693420>\n",
            "hola             str         hello there\n",
            "ipykernel        module      <module 'ipykernel' from <...>\\ipykernel\\\\__init__.py'>\n",
            "la_funcion       function    <function la_funcion at 0x000001131334D4E0>\n",
            "nombre           str         ana\n",
            "notas_parcial    tuple       n=6\n",
            "num              int         21\n",
            "otra_funcion     function    <function otra_funcion at 0x000001131373EE80>\n",
            "pi               float       3.14159\n",
            "procesar_notas   function    <function procesar_notas at 0x0000011314625620>\n",
            "radio            float       3.2\n",
            "saludito         str         hello there ana ana ana\n",
            "saludo           str         hello thereana\n",
            "saludo_espacio   str         hello there ana\n",
            "text             str         nestor\n",
            "una_funcion      function    <function una_funcion at 0x000001131450C220>\n",
            "variable         int         5\n",
            "x                int         5\n",
            "y                float       4.0\n"
          ]
        }
      ],
      "source": [
        "%whos"
      ]
    },
    {
      "cell_type": "markdown",
      "metadata": {
        "id": "iGg17y_4xpAo"
      },
      "source": [
        "#### 1. Introducción"
      ]
    },
    {
      "cell_type": "markdown",
      "metadata": {
        "id": "s5N5UbbtxpAo"
      },
      "source": [
        "**Valores y Variables**\n"
      ]
    },
    {
      "cell_type": "code",
      "execution_count": null,
      "metadata": {
        "id": "7lrrmP0WxpAo",
        "outputId": "de53999d-a8fa-4949-919b-0aae72bbb815"
      },
      "outputs": [
        {
          "name": "stdout",
          "output_type": "stream",
          "text": [
            "15.205295600000001\n"
          ]
        }
      ],
      "source": [
        "pi = 3.14159\n",
        "radio = 2.2\n",
        "# area of circle equation <- this is a comment\n",
        "area = pi*(radio ** 2)\n",
        "print(area)\n"
      ]
    },
    {
      "cell_type": "markdown",
      "metadata": {
        "id": "PWxaHoqXxpAp"
      },
      "source": [
        "**Re-asignar Variables**"
      ]
    },
    {
      "cell_type": "code",
      "execution_count": null,
      "metadata": {
        "id": "q37ScXckxpAp",
        "outputId": "7bd74c60-c23e-468b-b597-30349bf76b0e"
      },
      "outputs": [
        {
          "name": "stdout",
          "output_type": "stream",
          "text": [
            "15.205295600000001\n",
            "32.169881600000004\n"
          ]
        }
      ],
      "source": [
        "# change values of radio <- another comment\n",
        "# use comments to help others understand what you are doing in code\n",
        "radio = radio + 1\n",
        "print(area)     # area doesn't change\n",
        "area = pi*(radio ** 2)\n",
        "print(area)"
      ]
    },
    {
      "cell_type": "code",
      "execution_count": null,
      "metadata": {
        "id": "j9fmm-xsxpAp",
        "outputId": "b5af9a72-a5d5-49f8-b5ab-d4331d6e422c"
      },
      "outputs": [
        {
          "name": "stdout",
          "output_type": "stream",
          "text": [
            "Holaana\n",
            "Hola ana\n",
            "Hola ana ana ana\n"
          ]
        }
      ],
      "source": [
        "###################\n",
        "## EXAMPLE: strings\n",
        "###################\n",
        "hola = \"Hola\"\n",
        "nombre = \"Francisco\"\n",
        "saludo = hola + nombre\n",
        "print(saludo)\n",
        "saludo_espacio = hola + \" \" + nombre\n",
        "print(saludo_espacio)\n",
        "\n",
        "saludito = hola + (\" \" + nombre) * 3\n",
        "print(saludito)\n"
      ]
    },
    {
      "cell_type": "markdown",
      "metadata": {
        "id": "HGmYt9YxxpAp"
      },
      "source": [
        "**Input()**\n"
      ]
    },
    {
      "cell_type": "code",
      "execution_count": null,
      "metadata": {
        "id": "79OoazJixpAq",
        "outputId": "fcb37577-51f1-4dc7-a6e9-f353db0aedcc"
      },
      "outputs": [
        {
          "name": "stdout",
          "output_type": "stream",
          "text": [
            "1010101010\n",
            "50\n",
            "El doble de 10es20\n"
          ]
        }
      ],
      "source": [
        "####################\n",
        "## EXAMPLE: input\n",
        "####################\n",
        "numero_como_cadena = input(\"Ingrese un numero \")\n",
        "print(5*numero_como_cadena)\n",
        "\n",
        "numero_ingresado_int = int(input(\"Ingrese un numero \"))\n",
        "print(5*numero_ingresado_int)\n",
        "\n",
        "\n",
        "numero_como_int = int(numero_como_cadena)\n",
        "resultado = numero_como_int *2\n",
        "print( \"El doble de \"+ numero_como_cadena + \"es\" + str(resultado))\n",
        "\n"
      ]
    },
    {
      "cell_type": "markdown",
      "metadata": {
        "id": "qLj0YHlCxpAq"
      },
      "source": [
        "#### 2. Estructuras de control"
      ]
    },
    {
      "cell_type": "markdown",
      "metadata": {
        "id": "bJ5z3CvlxpAq"
      },
      "source": [
        "Un ejemplo"
      ]
    },
    {
      "cell_type": "code",
      "execution_count": null,
      "metadata": {
        "id": "8awgXW3qxpAq",
        "outputId": "86dc7cb6-f6e9-4591-92b6-1d1a407f5405"
      },
      "outputs": [
        {
          "name": "stdout",
          "output_type": "stream",
          "text": [
            "False\n",
            "True\n"
          ]
        }
      ],
      "source": [
        "numero_cervezas = 3\n",
        "minimo_legal = 1\n",
        "puedo_manejar = numero_cervezas < minimo_legal\n",
        "print(puedo_manejar)\n",
        "\n",
        "efectivo = 15\n",
        "costo_taxi = 10\n",
        "\n",
        "tomar_taxi = not puedo_manejar and efectivo >= costo_taxi\n",
        "print(tomar_taxi)"
      ]
    },
    {
      "cell_type": "markdown",
      "metadata": {
        "id": "vKRHs23gxpAq"
      },
      "source": [
        "**Indentación**"
      ]
    },
    {
      "cell_type": "code",
      "execution_count": null,
      "metadata": {
        "id": "cOStlWD9xpAq",
        "outputId": "1b7fd740-6bf3-4c73-b5d9-b00599171372"
      },
      "outputs": [
        {
          "name": "stdout",
          "output_type": "stream",
          "text": [
            "y es menor que x\n",
            "Fin!\n"
          ]
        }
      ],
      "source": [
        "####################\n",
        "## EXAMPLE: conditionals/branching\n",
        "####################\n",
        "x = float(input(\"Ingrese el vaor de x: \"))\n",
        "y = float(input(\"Ingrese el vaor de y: \"))\n",
        "if x == y:\n",
        "   print(\"x e y son iguales\")\n",
        "   if y != 0:\n",
        "       print(\"El valor de  x / y es\", x/y)\n",
        "elif x < y:\n",
        "   print(\"x es menor que y\")\n",
        "elif x > y:\n",
        "   print(\"y es menor que x\")\n",
        "print(\"Fin!\")\n"
      ]
    },
    {
      "cell_type": "markdown",
      "metadata": {
        "id": "2Ikdy9ZwxpAq"
      },
      "source": [
        "**Iteración con while**\n"
      ]
    },
    {
      "cell_type": "code",
      "execution_count": null,
      "metadata": {
        "id": "5b4OZZuuxpAq",
        "outputId": "782534c5-dd8c-41be-97b6-0905ba6cb477"
      },
      "outputs": [
        {
          "name": "stdout",
          "output_type": "stream",
          "text": [
            "¡¡¡FALLA DEL SISTEMA!!!\n",
            "¡¡¡FALLA DEL SISTEMA!!!\n",
            "¡¡¡FALLA DEL SISTEMA!!!\n",
            "Muchas gracias por su participación\n"
          ]
        }
      ],
      "source": [
        "respuesta = input(\"ENCUESTA : Cual es el mejor equipo del peru\")\n",
        "\n",
        "while respuesta != \"Alianza\":\n",
        "    print(\"¡¡¡FALLA DEL SISTEMA!!!\")\n",
        "    respuesta = input(\"ENCUESTA : Cual es el mejor equipo del peru\")\n",
        "\n",
        "print(\"Muchas gracias por su participación\")"
      ]
    },
    {
      "cell_type": "markdown",
      "metadata": {
        "id": "xgOccYJnxpAq"
      },
      "source": [
        "**Iteración con for**\n"
      ]
    },
    {
      "cell_type": "code",
      "execution_count": null,
      "metadata": {
        "id": "xTLN7D6GxpAq",
        "outputId": "384ac9f6-de80-4b06-e191-37845fa4462e"
      },
      "outputs": [
        {
          "name": "stdout",
          "output_type": "stream",
          "text": [
            "Iteracion con while:\n",
            "0\n",
            "1\n",
            "2\n",
            "3\n",
            "4\n",
            "Iteracion con for:\n",
            "0\n",
            "1\n",
            "2\n",
            "3\n",
            "4\n"
          ]
        }
      ],
      "source": [
        "print(\"Iteracion con while:\")\n",
        "contador = 0\n",
        "while contador < 5:\n",
        "   print(contador)\n",
        "   contador = contador + 1\n",
        "\n",
        "print(\"Iteracion con for:\")\n",
        "for contador in range(5):\n",
        "   print(contador)\n"
      ]
    },
    {
      "cell_type": "markdown",
      "metadata": {
        "id": "D3cSZrHLxpAq"
      },
      "source": [
        "**range(inicio, fin, incremento)**\n"
      ]
    },
    {
      "cell_type": "code",
      "execution_count": null,
      "metadata": {
        "id": "47wcGyY1xpAr",
        "outputId": "d25686df-de7d-4028-a222-daa51ee6bea7"
      },
      "outputs": [
        {
          "name": "stdout",
          "output_type": "stream",
          "text": [
            "numero:  5\n",
            "numero:  7\n",
            "numero:  9\n",
            "total:  21\n"
          ]
        }
      ],
      "source": [
        "total = 0\n",
        "for numero in range(5, 11, 2):\n",
        "   print(\"numero: \", numero)\n",
        "   total += numero\n",
        "print(\"total: \",total)"
      ]
    },
    {
      "cell_type": "markdown",
      "metadata": {
        "id": "j0wEG-IKxpAr"
      },
      "source": [
        "**break**"
      ]
    },
    {
      "cell_type": "code",
      "execution_count": null,
      "metadata": {
        "id": "PpvIYHsDxpAr",
        "outputId": "7965fb5c-0d02-4f4e-e4dd-348764387a00"
      },
      "outputs": [
        {
          "name": "stdout",
          "output_type": "stream",
          "text": [
            "numero:  5\n",
            "total:  5\n"
          ]
        }
      ],
      "source": [
        "total = 0\n",
        "for numero in range(5, 11, 2):\n",
        "    print(\"numero: \", numero)\n",
        "    total += numero\n",
        "    if total == 5:\n",
        "        break\n",
        "        total += 1\n",
        "print(\"total: \",total)"
      ]
    },
    {
      "cell_type": "markdown",
      "metadata": {
        "id": "dujeNRk-xpAr"
      },
      "source": [
        "#### 3. Cadenas"
      ]
    },
    {
      "cell_type": "markdown",
      "metadata": {
        "id": "eV_RKg-axpAr"
      },
      "source": [
        "**Cadenas de Caracteres**\n"
      ]
    },
    {
      "cell_type": "code",
      "execution_count": null,
      "metadata": {
        "id": "t6PdQAK_xpAr",
        "outputId": "622fbca7-32ec-49d0-edd9-788d6000e33b"
      },
      "outputs": [
        {
          "name": "stdout",
          "output_type": "stream",
          "text": [
            "len(una_cadena):  3\n",
            "una_cadena[0]:  U\n",
            "una_cadena[1]:  N\n",
            "una_cadena[2]:  I\n",
            "una_cadena[-1]:  I\n",
            "una_cadena[-2]:  N\n",
            "una_cadena[3]:  U\n"
          ]
        },
        {
          "ename": "IndexError",
          "evalue": "string index out of range",
          "output_type": "error",
          "traceback": [
            "\u001b[1;31m---------------------------------------------------------------------------\u001b[0m",
            "\u001b[1;31mIndexError\u001b[0m                                Traceback (most recent call last)",
            "Cell \u001b[1;32mIn[4], line 11\u001b[0m\n\u001b[0;32m      8\u001b[0m \u001b[38;5;28mprint\u001b[39m(\u001b[38;5;124m\"\u001b[39m\u001b[38;5;124muna_cadena[-2]: \u001b[39m\u001b[38;5;124m\"\u001b[39m,una_cadena[\u001b[38;5;241m-\u001b[39m\u001b[38;5;241m2\u001b[39m])\n\u001b[0;32m      9\u001b[0m \u001b[38;5;28mprint\u001b[39m(\u001b[38;5;124m\"\u001b[39m\u001b[38;5;124muna_cadena[3]: \u001b[39m\u001b[38;5;124m\"\u001b[39m,una_cadena[\u001b[38;5;241m-\u001b[39m\u001b[38;5;241m3\u001b[39m])\n\u001b[1;32m---> 11\u001b[0m \u001b[38;5;28mprint\u001b[39m(\u001b[38;5;124m\"\u001b[39m\u001b[38;5;124muna_cadena[3]: \u001b[39m\u001b[38;5;124m\"\u001b[39m,\u001b[43muna_cadena\u001b[49m\u001b[43m[\u001b[49m\u001b[38;5;241;43m3\u001b[39;49m\u001b[43m]\u001b[49m)\n",
            "\u001b[1;31mIndexError\u001b[0m: string index out of range"
          ]
        }
      ],
      "source": [
        "una_cadena = \"UNI\"\n",
        "print(\"len(una_cadena): \", len(una_cadena))\n",
        "\n",
        "print(\"una_cadena[0]: \",una_cadena[0])\n",
        "print(\"una_cadena[1]: \",una_cadena[1])\n",
        "print(\"una_cadena[2]: \",una_cadena[2])\n",
        "print(\"una_cadena[-1]: \",una_cadena[-1])\n",
        "print(\"una_cadena[-2]: \",una_cadena[-2])\n",
        "print(\"una_cadena[3]: \",una_cadena[-3])\n",
        "\n",
        "print(\"una_cadena[3]: \",una_cadena[3])"
      ]
    },
    {
      "cell_type": "markdown",
      "metadata": {
        "id": "BOIVaNfexpAr"
      },
      "source": [
        "**Slicing**"
      ]
    },
    {
      "cell_type": "code",
      "execution_count": null,
      "metadata": {
        "id": "4ZzLqAdWxpAr",
        "outputId": "12f1bd41-e878-4b2d-aafd-66658dad6cb8"
      },
      "outputs": [
        {
          "name": "stdout",
          "output_type": "stream",
          "text": [
            "len(una_cadena):  8\n",
            "una_cadena[3:6]:  def\n",
            "na_cadena[3:6:2]:  df\n",
            "una_cadena[::]:  abcdefgh\n",
            "una_cadena[::-1]:  hgfedcba\n",
            "una_cadena[4:1:-2]:  ec\n"
          ]
        }
      ],
      "source": [
        "una_cadena = \"abcdefgh\"\n",
        "print(\"len(una_cadena): \", len(una_cadena))\n",
        "\n",
        "print(\"una_cadena[3:6]: \",una_cadena[3:6])\n",
        "print(\"na_cadena[3:6:2]: \",una_cadena[3:6:2])\n",
        "print(\"una_cadena[::]: \",una_cadena[::])\n",
        "print(\"una_cadena[::-1]: \",una_cadena[::-1])\n",
        "print(\"una_cadena[4:1:-2]: \",una_cadena[4:1:-2])\n"
      ]
    },
    {
      "cell_type": "markdown",
      "metadata": {
        "id": "49Gv72jyxpAr"
      },
      "source": [
        "**Las Cadenas son Inmutables**"
      ]
    },
    {
      "cell_type": "code",
      "execution_count": null,
      "metadata": {
        "id": "0xEZUPmsxpAr",
        "outputId": "502f2ec6-b185-4761-a1ba-c992ca35a64e"
      },
      "outputs": [
        {
          "name": "stdout",
          "output_type": "stream",
          "text": [
            "hello\n",
            "yello\n"
          ]
        },
        {
          "ename": "TypeError",
          "evalue": "'str' object does not support item assignment",
          "output_type": "error",
          "traceback": [
            "\u001b[1;31m---------------------------------------------------------------------------\u001b[0m",
            "\u001b[1;31mTypeError\u001b[0m                                 Traceback (most recent call last)",
            "Cell \u001b[1;32mIn[7], line 6\u001b[0m\n\u001b[0;32m      3\u001b[0m s \u001b[38;5;241m=\u001b[39m \u001b[38;5;124m'\u001b[39m\u001b[38;5;124my\u001b[39m\u001b[38;5;124m'\u001b[39m\u001b[38;5;241m+\u001b[39ms[\u001b[38;5;241m1\u001b[39m:\u001b[38;5;28mlen\u001b[39m(s)]\n\u001b[0;32m      4\u001b[0m \u001b[38;5;28mprint\u001b[39m(s)\n\u001b[1;32m----> 6\u001b[0m \u001b[43ms\u001b[49m\u001b[43m[\u001b[49m\u001b[38;5;241;43m0\u001b[39;49m\u001b[43m]\u001b[49m \u001b[38;5;241m=\u001b[39m \u001b[38;5;124m'\u001b[39m\u001b[38;5;124mz\u001b[39m\u001b[38;5;124m'\u001b[39m\n",
            "\u001b[1;31mTypeError\u001b[0m: 'str' object does not support item assignment"
          ]
        }
      ],
      "source": [
        "s = \"hello\"\n",
        "print(s)\n",
        "s = 'y'+s[1:len(s)]\n",
        "print(s)\n",
        "\n",
        "s[0] = 'z'\n"
      ]
    },
    {
      "cell_type": "markdown",
      "metadata": {
        "id": "yTEnqOkJxpAr"
      },
      "source": [
        "**Cadenas y Bucles**\n"
      ]
    },
    {
      "cell_type": "code",
      "execution_count": null,
      "metadata": {
        "id": "uTrCuocgxpAr",
        "outputId": "b291c28e-aac2-4e6d-bbc8-23ca57553e62"
      },
      "outputs": [
        {
          "name": "stdout",
          "output_type": "stream",
          "text": [
            "La cadena contiene la letra 'e'\n",
            "La cadena contiene la letra 'e'\n"
          ]
        }
      ],
      "source": [
        "####################\n",
        "## EXAMPLE: for loops over strings\n",
        "####################\n",
        "una_cadena = \"abcdefgh\"\n",
        "for indice in range(len(una_cadena)):\n",
        "   if una_cadena[indice] == 'e':\n",
        "       print(\"La cadena contiene la letra 'e'\")\n",
        "\n",
        "for letra in una_cadena:\n",
        "   if letra == 'e':\n",
        "       print(\"La cadena contiene la letra 'e'\")\n"
      ]
    },
    {
      "cell_type": "markdown",
      "metadata": {
        "id": "kfQ6SCpcxpAr"
      },
      "source": [
        "#### 4. Funciones"
      ]
    },
    {
      "cell_type": "markdown",
      "metadata": {
        "id": "pIj6FPUCxpAr"
      },
      "source": [
        "**Funciones**"
      ]
    },
    {
      "cell_type": "code",
      "execution_count": null,
      "metadata": {
        "id": "-dS0_iNmxpAr",
        "outputId": "6982a2f9-b0e9-4254-d27b-0bf353d56e91"
      },
      "outputs": [
        {
          "name": "stdout",
          "output_type": "stream",
          "text": [
            "Evaluando  3\n",
            "False\n"
          ]
        }
      ],
      "source": [
        "def es_numero_par(numero):\n",
        "    \"\"\"\n",
        "    Input: numero, a positive int\n",
        "    Returns True if numero is even, otherwise False\n",
        "    \"\"\"\n",
        "    print('Evaluando ', numero)\n",
        "    resto = numero % 2\n",
        "    return resto == 0\n",
        "\n",
        "resultado = es_numero_par(3)\n",
        "print(resultado)"
      ]
    },
    {
      "cell_type": "markdown",
      "metadata": {
        "id": "5zvH52_ExpAr"
      },
      "source": [
        "**Ámbito 1**"
      ]
    },
    {
      "cell_type": "code",
      "execution_count": null,
      "metadata": {
        "id": "uqhEtQiGxpAr"
      },
      "outputs": [],
      "source": [
        "def f(x):\n",
        "   x = x + 1\n",
        "   print('En f(x): x =', x)\n",
        "   return x\n",
        "\n",
        "x = 3\n",
        "z = f(x)\n",
        "\n",
        "print('x =', x)\n",
        "print('z =', z)\n"
      ]
    },
    {
      "cell_type": "markdown",
      "metadata": {
        "id": "P6r_QoFIxpAs"
      },
      "source": [
        "**Ámbito 2**"
      ]
    },
    {
      "cell_type": "code",
      "execution_count": null,
      "metadata": {
        "id": "lZM-eUoDxpAu",
        "outputId": "ea0709ee-c725-4d65-ab64-5f6122f11402"
      },
      "outputs": [
        {
          "name": "stdout",
          "output_type": "stream",
          "text": [
            "Ejecutando func_a\n",
            "None\n",
            "Ejecutando func_b\n",
            "7\n",
            "Ejecutando func_c\n",
            "Ejecutando func_a\n",
            "None\n"
          ]
        }
      ],
      "source": [
        "#########################\n",
        "## EXAMPLE: functions as arguments\n",
        "## Python Tutor link: http://www.pythontutor.com/visualize.html#code=def%20func_a(%29%3A%0A%20%20%20%20print('inside%20func_a'%29%0A%0Adef%20func_b(y%29%3A%0A%20%20%20%20print('inside%20func_b'%29%0A%20%20%20%20return%20y%0A%0Adef%20func_c(z%29%3A%0A%20%20%20%20print('inside%20func_c'%29%0A%20%20%20%20return%20z(%29%0A%0Aprint(func_a(%29%29%0Aprint(5%2Bfunc_b(2%29%29%0Aprint(func_c(func_a%29%29%0A&cumulative=false&curInstr=0&heapPrimitives=false&mode=display&origin=opt-frontend.js&py=3&rawInputLstJSON=%5B%5D&textReferences=false\n",
        "#########################\n",
        "\n",
        "\n",
        "def func_a():\n",
        "    print('Ejecutando func_a')\n",
        "\n",
        "def func_b(y):\n",
        "    print('Ejecutando func_b')\n",
        "    return y\n",
        "\n",
        "def func_c(z):\n",
        "    print('Ejecutando func_c')\n",
        "    return z()\n",
        "\n",
        "print(func_a())\n",
        "print(5+func_b(2))\n",
        "print(func_c(func_a))"
      ]
    },
    {
      "cell_type": "markdown",
      "metadata": {
        "id": "JdsQpS0pxpAv"
      },
      "source": [
        "**Ámbito 3**"
      ]
    },
    {
      "cell_type": "code",
      "execution_count": null,
      "metadata": {
        "id": "YQ0xe-94xpAv",
        "outputId": "b903aff7-fd0c-451b-c4c0-90ba05085124"
      },
      "outputs": [
        {
          "name": "stdout",
          "output_type": "stream",
          "text": [
            "una funcion: variable= 2\n",
            "variable = 5\n",
            "otra funcion: variable= 5\n",
            "otra funcion: variable+1= 6\n",
            "variable = 5\n"
          ]
        },
        {
          "ename": "UnboundLocalError",
          "evalue": "cannot access local variable 'variable' where it is not associated with a value",
          "output_type": "error",
          "traceback": [
            "\u001b[1;31m---------------------------------------------------------------------------\u001b[0m",
            "\u001b[1;31mUnboundLocalError\u001b[0m                         Traceback (most recent call last)",
            "Cell \u001b[1;32mIn[11], line 19\u001b[0m\n\u001b[0;32m     17\u001b[0m otra_funcion(variable)\n\u001b[0;32m     18\u001b[0m \u001b[38;5;28mprint\u001b[39m(\u001b[38;5;124m\"\u001b[39m\u001b[38;5;124mvariable =\u001b[39m\u001b[38;5;124m\"\u001b[39m, variable)\n\u001b[1;32m---> 19\u001b[0m \u001b[43mla_funcion\u001b[49m\u001b[43m(\u001b[49m\u001b[43mvariable\u001b[49m\u001b[43m)\u001b[49m\n",
            "Cell \u001b[1;32mIn[11], line 11\u001b[0m, in \u001b[0;36mla_funcion\u001b[1;34m(parametro)\u001b[0m\n\u001b[0;32m     10\u001b[0m \u001b[38;5;28;01mdef\u001b[39;00m \u001b[38;5;21mla_funcion\u001b[39m(parametro):\n\u001b[1;32m---> 11\u001b[0m     \u001b[43mvariable\u001b[49m\u001b[38;5;241m+\u001b[39m\u001b[38;5;241m=\u001b[39m\u001b[38;5;241m1\u001b[39m\n",
            "\u001b[1;31mUnboundLocalError\u001b[0m: cannot access local variable 'variable' where it is not associated with a value"
          ]
        }
      ],
      "source": [
        "def una_funcion(parametro):\n",
        "    variable = 1\n",
        "    variable +=1\n",
        "    print(\"una funcion: variable=\",variable)\n",
        "\n",
        "def otra_funcion(parametro):\n",
        "    print(\"otra funcion: variable=\", variable)\n",
        "    print(\"otra funcion: variable+1=\", variable+1)\n",
        "\n",
        "def la_funcion(parametro):\n",
        "    variable+=1\n",
        "\n",
        "variable = 5\n",
        "\n",
        "una_funcion(variable)\n",
        "print(\"variable =\", variable)\n",
        "otra_funcion(variable)\n",
        "print(\"variable =\", variable)\n",
        "la_funcion(variable)"
      ]
    },
    {
      "cell_type": "markdown",
      "metadata": {
        "id": "upS1m7sqxpAv"
      },
      "source": [
        "#### 5. TUPLAS , LISTAS, ALIASING, MUTABILIDAD  Y CLONES\n"
      ]
    },
    {
      "cell_type": "markdown",
      "metadata": {
        "id": "IJf72784xpAv"
      },
      "source": [
        "**Usando Tuplas**"
      ]
    },
    {
      "cell_type": "code",
      "execution_count": null,
      "metadata": {
        "id": "shMFkMm2xpAv",
        "outputId": "e82aa7d8-7aa1-40f8-bfbc-ba5bda3922dc"
      },
      "outputs": [
        {
          "name": "stdout",
          "output_type": "stream",
          "text": [
            "una_tupla[0]:  2\n",
            "len(una_tupla) 3\n",
            "una_tupla[1:2] :  ('UNI',)\n",
            "una_tupla[1:3] :  ('UNI', 3)\n",
            "otra_tupla:  (2, 'UNI', 3, 5, 6)\n"
          ]
        },
        {
          "ename": "TypeError",
          "evalue": "'tuple' object does not support item assignment",
          "output_type": "error",
          "traceback": [
            "\u001b[1;31m---------------------------------------------------------------------------\u001b[0m",
            "\u001b[1;31mTypeError\u001b[0m                                 Traceback (most recent call last)",
            "Cell \u001b[1;32mIn[12], line 10\u001b[0m\n\u001b[0;32m      8\u001b[0m otra_tupla \u001b[38;5;241m=\u001b[39m (\u001b[38;5;241m2\u001b[39m, \u001b[38;5;124m\"\u001b[39m\u001b[38;5;124mUNI\u001b[39m\u001b[38;5;124m\"\u001b[39m, \u001b[38;5;241m3\u001b[39m) \u001b[38;5;241m+\u001b[39m (\u001b[38;5;241m5\u001b[39m,\u001b[38;5;241m6\u001b[39m)\n\u001b[0;32m      9\u001b[0m \u001b[38;5;28mprint\u001b[39m(\u001b[38;5;124m\"\u001b[39m\u001b[38;5;124motra_tupla: \u001b[39m\u001b[38;5;124m\"\u001b[39m,otra_tupla)\n\u001b[1;32m---> 10\u001b[0m \u001b[43motra_tupla\u001b[49m\u001b[43m[\u001b[49m\u001b[38;5;241;43m1\u001b[39;49m\u001b[43m]\u001b[49m \u001b[38;5;241m=\u001b[39m \u001b[38;5;241m4\u001b[39m\n",
            "\u001b[1;31mTypeError\u001b[0m: 'tuple' object does not support item assignment"
          ]
        }
      ],
      "source": [
        "tupla_vacia = ()\n",
        "una_tupla = (2, \"UNI\", 3)\n",
        "print(\"una_tupla[0]: \",una_tupla[0])\n",
        "print(\"len(una_tupla)\",len(una_tupla))\n",
        "print(\"una_tupla[1:2] : \",una_tupla[1:2] )\n",
        "print(\"una_tupla[1:3] : \",una_tupla[1:3] )\n",
        "\n",
        "otra_tupla = (2, \"UNI\", 3) + (5,6)\n",
        "print(\"otra_tupla: \",otra_tupla)\n",
        "otra_tupla[1] = 4"
      ]
    },
    {
      "cell_type": "markdown",
      "metadata": {
        "id": "BsXIfsNOxpAv"
      },
      "source": [
        "**Usando Tuplas**\n"
      ]
    },
    {
      "cell_type": "code",
      "execution_count": null,
      "metadata": {
        "id": "oqO3Xq6CxpAv",
        "outputId": "0d42e649-e266-4a6a-e00d-4a5463fbd914"
      },
      "outputs": [
        {
          "name": "stdout",
          "output_type": "stream",
          "text": [
            "una_variable:  3\n",
            "otra_variable:  3\n",
            "una_variable:  3\n",
            "otra_variable:  10\n",
            "(3, 1)\n"
          ]
        }
      ],
      "source": [
        "una_variable = 10\n",
        "otra_variable = 3\n",
        "\n",
        "una_variable = otra_variable\n",
        "otra_variable = una_variable\n",
        "print(\"una_variable: \",una_variable)\n",
        "print(\"otra_variable: \",otra_variable)\n",
        "\n",
        "\n",
        "una_variable = 10\n",
        "otra_variable = 3\n",
        "\n",
        "(una_variable, otra_variable) = (otra_variable, una_variable)\n",
        "print(\"una_variable: \",una_variable)\n",
        "print(\"otra_variable: \",otra_variable)\n",
        "\n",
        "\n",
        "def division_entera(dividendo,divisor):\n",
        "    cociente = dividendo//divisor\n",
        "    residuo = dividendo % divisor\n",
        "    return (cociente, residuo)\n",
        "\n",
        "print(division_entera(10,3))"
      ]
    },
    {
      "cell_type": "markdown",
      "metadata": {
        "id": "7doCun9GxpAv"
      },
      "source": [
        "**Usando Tuplas**\n"
      ]
    },
    {
      "cell_type": "code",
      "execution_count": null,
      "metadata": {
        "id": "tmpXTluzxpAv",
        "outputId": "15db25e0-9ecf-43bd-877b-5119a87c0478"
      },
      "outputs": [
        {
          "name": "stdout",
          "output_type": "stream",
          "text": [
            "una_tupla[0]:  2\n",
            "len(una_tupla) 3\n",
            "una_tupla[1:2] :  ('UNI',)\n",
            "una_tupla[1:3] :  ('UNI', 3)\n",
            "otra_tupla:  (2, 'UNI', 3, 5, 6)\n"
          ]
        },
        {
          "ename": "TypeError",
          "evalue": "'tuple' object does not support item assignment",
          "output_type": "error",
          "traceback": [
            "\u001b[1;31m---------------------------------------------------------------------------\u001b[0m",
            "\u001b[1;31mTypeError\u001b[0m                                 Traceback (most recent call last)",
            "Cell \u001b[1;32mIn[16], line 10\u001b[0m\n\u001b[0;32m      8\u001b[0m otra_tupla \u001b[38;5;241m=\u001b[39m (\u001b[38;5;241m2\u001b[39m, \u001b[38;5;124m\"\u001b[39m\u001b[38;5;124mUNI\u001b[39m\u001b[38;5;124m\"\u001b[39m, \u001b[38;5;241m3\u001b[39m) \u001b[38;5;241m+\u001b[39m (\u001b[38;5;241m5\u001b[39m,\u001b[38;5;241m6\u001b[39m)\n\u001b[0;32m      9\u001b[0m \u001b[38;5;28mprint\u001b[39m(\u001b[38;5;124m\"\u001b[39m\u001b[38;5;124motra_tupla: \u001b[39m\u001b[38;5;124m\"\u001b[39m,otra_tupla)\n\u001b[1;32m---> 10\u001b[0m \u001b[43motra_tupla\u001b[49m\u001b[43m[\u001b[49m\u001b[38;5;241;43m1\u001b[39;49m\u001b[43m]\u001b[49m \u001b[38;5;241m=\u001b[39m \u001b[38;5;241m4\u001b[39m\n",
            "\u001b[1;31mTypeError\u001b[0m: 'tuple' object does not support item assignment"
          ]
        }
      ],
      "source": [
        "tupla_vacia = ()\n",
        "una_tupla = (2, \"UNI\", 3)\n",
        "print(\"una_tupla[0]: \",una_tupla[0])\n",
        "print(\"len(una_tupla)\",len(una_tupla))\n",
        "print(\"una_tupla[1:2] : \",una_tupla[1:2] )\n",
        "print(\"una_tupla[1:3] : \",una_tupla[1:3] )\n",
        "\n",
        "otra_tupla = (2, \"UNI\", 3) + (5,6)\n",
        "print(\"otra_tupla: \",otra_tupla)\n",
        "otra_tupla[1] = 4\n",
        "\n"
      ]
    },
    {
      "cell_type": "code",
      "execution_count": null,
      "metadata": {
        "id": "QBvLacLLxpAv",
        "outputId": "fc9911cc-ece0-4eda-a58a-9baeb7611e1e"
      },
      "outputs": [
        {
          "name": "stdout",
          "output_type": "stream",
          "text": [
            "una_variable:  3\n",
            "otra_variable:  3\n",
            "una_variable:  3\n",
            "otra_variable:  10\n",
            "(3, 1)\n"
          ]
        }
      ],
      "source": [
        "una_variable = 10\n",
        "otra_variable = 3\n",
        "\n",
        "una_variable = otra_variable\n",
        "otra_variable = una_variable\n",
        "print(\"una_variable: \",una_variable)\n",
        "print(\"otra_variable: \",otra_variable)\n",
        "\n",
        "\n",
        "una_variable = 10\n",
        "otra_variable = 3\n",
        "\n",
        "(una_variable, otra_variable) = (otra_variable, una_variable)\n",
        "print(\"una_variable: \",una_variable)\n",
        "print(\"otra_variable: \",otra_variable)\n",
        "\n",
        "\n",
        "def division_entera(dividendo,divisor):\n",
        "    cociente = dividendo//divisor\n",
        "    residuo = dividendo % divisor\n",
        "    return (cociente, residuo)\n",
        "\n",
        "print(division_entera(10,3))"
      ]
    },
    {
      "cell_type": "code",
      "execution_count": null,
      "metadata": {
        "id": "8beJdqbcxpAv",
        "outputId": "1ea52870-c607-49d8-898b-f5c7b2deca80"
      },
      "outputs": [
        {
          "name": "stdout",
          "output_type": "stream",
          "text": [
            "(6, 20, 6)\n"
          ]
        }
      ],
      "source": [
        "def procesar_notas(notas_por_alumno):\n",
        "    notas = ()\n",
        "    alumnos = ()\n",
        "    for nota_y_alumno in notas_por_alumno:\n",
        "        nota = nota_y_alumno[0]\n",
        "        alumno = nota_y_alumno[1]\n",
        "        # only add words haven'una_tupla added before\n",
        "        if alumno not in alumnos:\n",
        "            notas = notas + (nota,)\n",
        "            alumnos = alumnos + (alumno,)\n",
        "    minima_nota = min(notas)\n",
        "    maxima_nota = max(notas)\n",
        "    numero_alumnos = len(alumnos)\n",
        "    return (minima_nota, maxima_nota, numero_alumnos)\n",
        "\n",
        "notas_parcial = ((6, \"Juan\"), (20, \"Nestor\"), (20, \"Luis\"),\n",
        "                  (7,\"Jose\"), (8,\"tomas\"), (20, \"Jaime\"))\n",
        "print(procesar_notas(notas_parcial))"
      ]
    },
    {
      "cell_type": "markdown",
      "metadata": {
        "id": "zO9IqYVBxpAv"
      },
      "source": [
        "**Listas**"
      ]
    },
    {
      "cell_type": "code",
      "execution_count": null,
      "metadata": {
        "id": "kCJKVRf7xpAv",
        "outputId": "3fb2eb51-c87b-404a-fcf6-a10fc0f8b340"
      },
      "outputs": [
        {
          "name": "stdout",
          "output_type": "stream",
          "text": [
            "len(otra_lista):  4\n",
            "otra_lista[0]:  2\n",
            "otra_lista[2] + 1:  5\n",
            "otra_lista[3]:  [1, 2]\n",
            "otra_lista[indice - 1]:  u\n"
          ]
        },
        {
          "ename": "IndexError",
          "evalue": "list index out of range",
          "output_type": "error",
          "traceback": [
            "\u001b[1;31m---------------------------------------------------------------------------\u001b[0m",
            "\u001b[1;31mIndexError\u001b[0m                                Traceback (most recent call last)",
            "Cell \u001b[1;32mIn[18], line 13\u001b[0m\n\u001b[0;32m     11\u001b[0m indice \u001b[38;5;241m=\u001b[39m \u001b[38;5;241m2\u001b[39m\n\u001b[0;32m     12\u001b[0m \u001b[38;5;28mprint\u001b[39m(\u001b[38;5;124m\"\u001b[39m\u001b[38;5;124motra_lista[indice - 1]: \u001b[39m\u001b[38;5;124m\"\u001b[39m,otra_lista[indice \u001b[38;5;241m-\u001b[39m \u001b[38;5;241m1\u001b[39m])\n\u001b[1;32m---> 13\u001b[0m \u001b[38;5;28mprint\u001b[39m(\u001b[43motra_lista\u001b[49m\u001b[43m[\u001b[49m\u001b[38;5;241;43m4\u001b[39;49m\u001b[43m]\u001b[49m)\n",
            "\u001b[1;31mIndexError\u001b[0m: list index out of range"
          ]
        }
      ],
      "source": [
        "lista_vacia = []\n",
        "\n",
        "otra_lista = [2, 'u', 4, [1, 2]]\n",
        "\n",
        "print(\"len(otra_lista): \", len(otra_lista))\n",
        "print(\"otra_lista[0]: \", otra_lista[0])\n",
        "print(\"otra_lista[2] + 1: \", otra_lista[2] + 1)\n",
        "print(\"otra_lista[3]: \", otra_lista[3])\n",
        "\n",
        "\n",
        "indice = 2\n",
        "print(\"otra_lista[indice - 1]: \",otra_lista[indice - 1])\n",
        "print(otra_lista[4])\n"
      ]
    },
    {
      "cell_type": "markdown",
      "metadata": {
        "id": "zyykWgrFxpAw"
      },
      "source": [
        "**Modificando Elementos**"
      ]
    },
    {
      "cell_type": "code",
      "execution_count": null,
      "metadata": {
        "id": "zTyM4FQHxpAw",
        "outputId": "3abcca23-2ee4-41ea-c2a2-fa2c65658409"
      },
      "outputs": [
        {
          "name": "stdout",
          "output_type": "stream",
          "text": [
            "L original: [2, 1, 3]\n",
            "L modfificada: [2, 5, 3]\n"
          ]
        }
      ],
      "source": [
        "L = [2, 1, 3]\n",
        "print(\"L original:\", L)\n",
        "L[1] = 5\n",
        "print(\"L modfificada:\", L)"
      ]
    },
    {
      "cell_type": "markdown",
      "metadata": {
        "id": "rO4jpFBLxpAw"
      },
      "source": [
        "**Iterando sobre Listas**"
      ]
    },
    {
      "cell_type": "code",
      "execution_count": null,
      "metadata": {
        "id": "ohxsG418xpAw",
        "outputId": "cff53c91-38a7-4f67-89a5-e4076e8fb107"
      },
      "outputs": [
        {
          "name": "stdout",
          "output_type": "stream",
          "text": [
            "total_impuestos:  400.0\n",
            "total impuestos:  400.0\n"
          ]
        }
      ],
      "source": [
        "impuestos_por_mes = [100.0, 200.0, 100.0]\n",
        "\n",
        "total_impuestos = 0.0\n",
        "\n",
        "for indice in range(len(impuestos_por_mes)):\n",
        "    total_impuestos+=impuestos_por_mes[indice]\n",
        "\n",
        "print(\"total_impuestos: \", total_impuestos)\n",
        "\n",
        "total_impuestos = 0.0\n",
        "for impuesto_mensual in impuestos_por_mes:\n",
        "    total_impuestos += impuesto_mensual\n",
        "\n",
        "print(\"total impuestos: \", total_impuestos)"
      ]
    },
    {
      "cell_type": "markdown",
      "metadata": {
        "id": "AOIEHf52xpAw"
      },
      "source": [
        "**Agregar Elementos**\n"
      ]
    },
    {
      "cell_type": "code",
      "execution_count": null,
      "metadata": {
        "id": "lKRW-IWZxpAw",
        "outputId": "cc041cdf-cde7-4690-8af0-5b1de98c1fed"
      },
      "outputs": [
        {
          "name": "stdout",
          "output_type": "stream",
          "text": [
            "impuestos_por_mes:  [100.0, 200.0, 100.0]\n",
            "impuestos_por_mes:  [100.0, 200.0, 100.0, 150.0]\n"
          ]
        }
      ],
      "source": [
        "impuestos_por_mes = [100.0, 200.0, 100.0]\n",
        "print(\"impuestos_por_mes: \", impuestos_por_mes)\n",
        "\n",
        "impuestos_por_mes.append(150.0)\n",
        "print(\"impuestos_por_mes: \", impuestos_por_mes)"
      ]
    },
    {
      "cell_type": "markdown",
      "metadata": {
        "id": "T-OdDxTrxpAw"
      },
      "source": [
        "**Concatenar Listas**"
      ]
    },
    {
      "cell_type": "code",
      "execution_count": null,
      "metadata": {
        "id": "C5NdVb3RxpAw",
        "outputId": "ef5b908a-44c6-42c4-e4af-b7008f842f26"
      },
      "outputs": [
        {
          "name": "stdout",
          "output_type": "stream",
          "text": [
            "lista_concatenada:  [2, 1, 3, 4, 5, 6]\n",
            "Antes de extend:  [2, 1, 3]\n",
            "Despues de extend:  [2, 1, 3, 0, 6]\n"
          ]
        }
      ],
      "source": [
        "una_lista = [2, 1, 3]\n",
        "otra_lista = [4, 5, 6]\n",
        "lista_concatenada = una_lista + otra_lista\n",
        "print(\"lista_concatenada: \",lista_concatenada)\n",
        "\n",
        "print(\"Antes de extend: \", una_lista)\n",
        "una_lista.extend([0, 6])\n",
        "print(\"Despues de extend: \", una_lista)\n"
      ]
    },
    {
      "cell_type": "markdown",
      "metadata": {
        "id": "HkVOuSgUxpAw"
      },
      "source": [
        "**Eliminar Elementos**"
      ]
    },
    {
      "cell_type": "code",
      "execution_count": null,
      "metadata": {
        "id": "f2NDO1m8xpAw",
        "outputId": "d0741a10-fbca-45e8-e3a7-c17c977cee26"
      },
      "outputs": [
        {
          "name": "stdout",
          "output_type": "stream",
          "text": [
            "una_lista:  [1, 3, 6, 3, 7, 0]\n",
            "una_lista:  [1, 6, 3, 7, 0]\n",
            "una_lista:  [1, 3, 7, 0]\n",
            "ultimo_elemento:  0\n",
            "una_lista:  [1, 3, 7]\n"
          ]
        }
      ],
      "source": [
        "una_lista = [2, 1, 3, 6, 3, 7, 0]\n",
        "una_lista.remove(2)\n",
        "print(\"una_lista: \", una_lista)\n",
        "\n",
        "una_lista.remove(3)\n",
        "print(\"una_lista: \", una_lista)\n",
        "\n",
        "del(una_lista[1])\n",
        "print(\"una_lista: \", una_lista)\n",
        "\n",
        "ultimo_elemento = una_lista.pop()\n",
        "print(\"ultimo_elemento: \",ultimo_elemento)\n",
        "print(\"una_lista: \",una_lista)"
      ]
    },
    {
      "cell_type": "markdown",
      "metadata": {
        "id": "LDfWwjfXxpAw"
      },
      "source": [
        "**Listas y Cadenas**"
      ]
    },
    {
      "cell_type": "code",
      "execution_count": null,
      "metadata": {
        "id": "BOMJ6MulxpAw",
        "outputId": "f885962a-8a1e-4246-d965-36e720eaeabb"
      },
      "outputs": [
        {
          "name": "stdout",
          "output_type": "stream",
          "text": [
            "['I', '<', '3', ' ', 'F', 'I', 'I', 'S']\n",
            "['I', '3 FIIS']\n",
            "abc\n",
            "a_b_c\n"
          ]
        }
      ],
      "source": [
        "una_cadena = \"I<3 FIIS\"\n",
        "\n",
        "print(list(una_cadena))\n",
        "print(una_cadena.split('<'))\n",
        "\n",
        "una_lista = ['a', 'b', 'c']\n",
        "print(''.join(una_lista))\n",
        "print('_'.join(una_lista))"
      ]
    },
    {
      "cell_type": "markdown",
      "metadata": {
        "id": "BPJg4Ft4xpAw"
      },
      "source": [
        "**Otras Operaciones en Listas**"
      ]
    },
    {
      "cell_type": "code",
      "execution_count": null,
      "metadata": {
        "id": "W_RHMe5-xpAw"
      },
      "outputs": [],
      "source": [
        "una_lista=[9, 6, 0, 3]\n",
        "lista_ordenada = sorted(una_lista)\n",
        "\n",
        "print(\"una_lista: \",una_lista)\n",
        "print(\"lista_ordenada: \",lista_ordenada)\n",
        "\n",
        "una_lista.sort()\n",
        "print(\"una_lista: \",una_lista)\n",
        "\n",
        "una_lista.reverse()\n",
        "print(\"una_lista: \",una_lista)"
      ]
    },
    {
      "cell_type": "markdown",
      "metadata": {
        "id": "75JsNJRTxpAw"
      },
      "source": [
        "**Aliasing**"
      ]
    },
    {
      "cell_type": "code",
      "execution_count": null,
      "metadata": {
        "id": "LcEAiGgixpAx",
        "outputId": "27f839bc-5e2f-4766-c184-9bd92afc38db"
      },
      "outputs": [
        {
          "name": "stdout",
          "output_type": "stream",
          "text": [
            "universidades:  ['UNI', 'PUCP', 'UNMSM', 'UNALM']\n",
            "casas_de_estudio:  ['UNI', 'PUCP', 'UNMSM', 'UNALM']\n"
          ]
        }
      ],
      "source": [
        "universidades = ['UNI', 'PUCP', 'UNMSM']\n",
        "casas_de_estudio = universidades\n",
        "casas_de_estudio.append('UNALM')\n",
        "\n",
        "print(\"universidades: \", universidades)\n",
        "print(\"casas_de_estudio: \", casas_de_estudio)"
      ]
    },
    {
      "cell_type": "markdown",
      "metadata": {
        "id": "nCCZ4_0AxpAx"
      },
      "source": [
        "**Cloning**"
      ]
    },
    {
      "cell_type": "code",
      "execution_count": null,
      "metadata": {
        "id": "K9Y0QlGXxpAx",
        "outputId": "334b4d8e-b58d-4a44-a8bb-43b7fdaaf42f"
      },
      "outputs": [
        {
          "name": "stdout",
          "output_type": "stream",
          "text": [
            "universidades_publicas:  ['UNI', 'UNMSM', 'UNALM']\n",
            "universidades:  ['UNI', 'UNMSM', 'UNALM', 'PUCP']\n"
          ]
        }
      ],
      "source": [
        "universidades_publicas = ['UNI', 'UNMSM', 'UNALM']\n",
        "universidades = universidades_publicas[:]\n",
        "universidades.append('PUCP')\n",
        "print(\"universidades_publicas: \", universidades_publicas)\n",
        "print(\"universidades: \",universidades)\n"
      ]
    },
    {
      "cell_type": "code",
      "execution_count": null,
      "metadata": {
        "id": "WTLR7q2bxpAx",
        "outputId": "6c44f996-4647-47a3-a42f-18e6e2c25df7"
      },
      "outputs": [
        {
          "name": "stdout",
          "output_type": "stream",
          "text": [
            "universidades_publicas:  ['UNI', 'UNMSM', 'UNALM']\n",
            "universidades:  ['UNI', 'UNMSM', 'UNALM', 'PUCP']\n"
          ]
        }
      ],
      "source": [
        "universidades_publicas = ['UNI', 'UNMSM', 'UNALM']\n",
        "universidades = universidades_publicas.copy()\n",
        "universidades.append('PUCP')\n",
        "print(\"universidades_publicas: \", universidades_publicas)\n",
        "print(\"universidades: \",universidades)\n"
      ]
    },
    {
      "cell_type": "code",
      "execution_count": null,
      "metadata": {
        "id": "B4SQvhJqxpAx",
        "outputId": "872ee6ac-7b20-4728-c626-4b3ceac8dfee"
      },
      "outputs": [
        {
          "data": {
            "text/plain": [
              "<function list.copy()>"
            ]
          },
          "execution_count": 3,
          "metadata": {},
          "output_type": "execute_result"
        }
      ],
      "source": [
        "universidades"
      ]
    },
    {
      "cell_type": "markdown",
      "metadata": {
        "id": "32o3JdEnxpAx"
      },
      "source": [
        "**Mutating**"
      ]
    },
    {
      "cell_type": "code",
      "execution_count": null,
      "metadata": {
        "id": "S-Q9Sad5xpAx",
        "outputId": "03daad6d-5ef4-40d2-fb57-1b5a4a63a9c1"
      },
      "outputs": [
        {
          "name": "stdout",
          "output_type": "stream",
          "text": [
            "[2, 3, 4]\n",
            "[3, 4]\n"
          ]
        }
      ],
      "source": [
        "def remover_duplicados(una_lista, otra_lista):\n",
        "    for un_elemento in una_lista:\n",
        "        if un_elemento in otra_lista:\n",
        "            una_lista.remove(un_elemento)\n",
        "\n",
        "\n",
        "def remover_duplicados_v2(una_lista, otra_lista):\n",
        "    copia_una_lista = una_lista[:]\n",
        "    for un_elemento in copia_una_lista:\n",
        "        if un_elemento in otra_lista:\n",
        "            una_lista.remove(un_elemento)\n",
        "\n",
        "\n",
        "lista1 = [1, 2, 3, 4]\n",
        "lista2 = [1, 2, 5, 6]\n",
        "remover_duplicados(lista1, lista2)\n",
        "print(lista1)\n",
        "\n",
        "lista1 = [1, 2, 3, 4]\n",
        "lista2 = [1, 2, 5, 6]\n",
        "remover_duplicados_v2(lista1, lista2)\n",
        "print(lista1)"
      ]
    },
    {
      "cell_type": "markdown",
      "metadata": {
        "id": "DzE-JyHHxpAx"
      },
      "source": [
        "#### 6. RECURSIVIDAD"
      ]
    },
    {
      "cell_type": "markdown",
      "metadata": {
        "id": "kwQRLyiexpAx"
      },
      "source": [
        "**Solución Iterativa**\n"
      ]
    },
    {
      "cell_type": "code",
      "execution_count": null,
      "metadata": {
        "id": "Bl5l9yL4xpAx",
        "outputId": "ca34e896-479b-4855-9eff-22bcc70a167d"
      },
      "outputs": [
        {
          "name": "stdout",
          "output_type": "stream",
          "text": [
            "56\n"
          ]
        }
      ],
      "source": [
        "def multiplicar_iterativo(factor, otro_factor):\n",
        "    resultado = 0\n",
        "\n",
        "    while otro_factor > 0:\n",
        "        resultado += factor\n",
        "        otro_factor -= 1\n",
        "\n",
        "    return resultado\n",
        "\n",
        "print(multiplicar_iterativo(8, 7))\n"
      ]
    },
    {
      "cell_type": "markdown",
      "metadata": {
        "id": "ltOV0PenxpAx"
      },
      "source": [
        "**Solución Recursiva**\n"
      ]
    },
    {
      "cell_type": "code",
      "execution_count": null,
      "metadata": {
        "id": "GkwBKgIvxpAx",
        "outputId": "672ef4d2-a632-4a78-aa87-02845d3338ce"
      },
      "outputs": [
        {
          "name": "stdout",
          "output_type": "stream",
          "text": [
            "56\n"
          ]
        }
      ],
      "source": [
        "def multiplicacion(a, b):\n",
        "    # caso base\n",
        "    if b == 1:\n",
        "        return a\n",
        "    # llamada recurrente\n",
        "    else:\n",
        "        return a + multiplicacion(a, b - 1)\n",
        "\n",
        "print(multiplicacion(8,7))"
      ]
    },
    {
      "cell_type": "markdown",
      "metadata": {
        "id": "lk59MXN1xpAx"
      },
      "source": [
        "**Factorial**"
      ]
    },
    {
      "cell_type": "code",
      "execution_count": null,
      "metadata": {
        "id": "uqfbHyKhxpAx",
        "outputId": "11e693b9-62cc-47e8-b478-77a64a58074a"
      },
      "outputs": [
        {
          "name": "stdout",
          "output_type": "stream",
          "text": [
            "24\n"
          ]
        }
      ],
      "source": [
        "# discos! = discos*(discos-1)*(discos-2)*(discos-3)* ... * 1\n",
        "def factorial(n):\n",
        "    if n == 1:\n",
        "        return 1\n",
        "    else:\n",
        "        return n * factorial(n - 1)\n",
        "\n",
        "print (factorial(4))\n"
      ]
    },
    {
      "cell_type": "markdown",
      "metadata": {
        "id": "RQKME0C5xpAx"
      },
      "source": [
        "**Iteración y Recursividad**\n"
      ]
    },
    {
      "cell_type": "code",
      "execution_count": null,
      "metadata": {
        "id": "0y4t8rcjxpAx",
        "outputId": "7e805af2-66b4-49ba-ec87-571f19d2c81c"
      },
      "outputs": [
        {
          "name": "stdout",
          "output_type": "stream",
          "text": [
            "24\n",
            "24\n"
          ]
        }
      ],
      "source": [
        "# discos! = discos*(discos-1)*(discos-2)*(discos-3)* ... * 1\n",
        "def factorial_recursivo(n):\n",
        "    if n == 1:\n",
        "        return 1\n",
        "    else:\n",
        "        return n * factorial_recursivo(n - 1)\n",
        "\n",
        "def factorial_iterativo(n):\n",
        "    prod = 1\n",
        "    for i in range(1, n + 1):\n",
        "        prod *= i\n",
        "    return prod\n",
        "\n",
        "print (factorial_iterativo(4))\n",
        "print (factorial_recursivo(4))"
      ]
    },
    {
      "cell_type": "markdown",
      "metadata": {
        "id": "yq76mdtgxpAy"
      },
      "source": [
        "**Torres de Hanoi**"
      ]
    },
    {
      "cell_type": "code",
      "execution_count": null,
      "metadata": {
        "id": "_dYBFQPQxpAy",
        "outputId": "eda468ae-5090-4984-f8bf-5966da9ce9bf"
      },
      "outputs": [
        {
          "name": "stdout",
          "output_type": "stream",
          "text": [
            "Mover discos desde IZQ hacia CENT\n",
            "Mover discos desde IZQ hacia DER\n",
            "Mover discos desde CENT hacia DER\n",
            "Mover discos desde IZQ hacia CENT\n",
            "Mover discos desde DER hacia IZQ\n",
            "Mover discos desde DER hacia CENT\n",
            "Mover discos desde IZQ hacia CENT\n",
            "Mover discos desde IZQ hacia DER\n",
            "Mover discos desde CENT hacia DER\n",
            "Mover discos desde CENT hacia IZQ\n",
            "Mover discos desde DER hacia IZQ\n",
            "Mover discos desde CENT hacia DER\n",
            "Mover discos desde IZQ hacia CENT\n",
            "Mover discos desde IZQ hacia DER\n",
            "Mover discos desde CENT hacia DER\n",
            "Mover discos desde IZQ hacia CENT\n",
            "Mover discos desde DER hacia IZQ\n",
            "Mover discos desde DER hacia CENT\n",
            "Mover discos desde IZQ hacia CENT\n",
            "Mover discos desde DER hacia IZQ\n",
            "Mover discos desde CENT hacia DER\n",
            "Mover discos desde CENT hacia IZQ\n",
            "Mover discos desde DER hacia IZQ\n",
            "Mover discos desde DER hacia CENT\n",
            "Mover discos desde IZQ hacia CENT\n",
            "Mover discos desde IZQ hacia DER\n",
            "Mover discos desde CENT hacia DER\n",
            "Mover discos desde IZQ hacia CENT\n",
            "Mover discos desde DER hacia IZQ\n",
            "Mover discos desde DER hacia CENT\n",
            "Mover discos desde IZQ hacia CENT\n",
            "None\n"
          ]
        }
      ],
      "source": [
        "def mostrar_movimientos(origen, destino):\n",
        "    print('Mover discos desde ' + str(origen) + ' hacia ' + str(destino))\n",
        "\n",
        "def mover_discos(discos, origen, destino, libre):\n",
        "    if discos == 1:\n",
        "        mostrar_movimientos(origen, destino)\n",
        "    else:\n",
        "        mover_discos(discos - 1, origen, libre, destino)\n",
        "        mover_discos(1, origen, destino, libre)\n",
        "        mover_discos(discos - 1, libre, destino, origen)\n",
        "\n",
        "print(mover_discos(5, \"IZQ\", \"CENT\",\"DER\"))"
      ]
    },
    {
      "cell_type": "markdown",
      "metadata": {
        "id": "bt2S5DIbxpAy"
      },
      "source": [
        "**Secuencia de Fibonacci**\n"
      ]
    },
    {
      "cell_type": "code",
      "execution_count": null,
      "metadata": {
        "id": "JKi-TwnIxpAy",
        "outputId": "52e6b17e-4171-4b3a-8619-7850d24e3440"
      },
      "outputs": [
        {
          "name": "stdout",
          "output_type": "stream",
          "text": [
            "Fibonacci de 0: 1\n",
            "Fibonacci de 1: 1\n",
            "Fibonacci de 2: 2\n",
            "Fibonacci de 3: 3\n",
            "Fibonacci de 4: 5\n",
            "Fibonacci de 5: 8\n",
            "Fibonacci de 6: 13\n"
          ]
        }
      ],
      "source": [
        "def fibonacci(x):\n",
        "    \"\"\"\n",
        "        asume que x es un  int >= 0\n",
        "        returns Fibonacci de x\n",
        "    \"\"\"\n",
        "    if x == 0 or x == 1:\n",
        "        return 1\n",
        "    else:\n",
        "        return fibonacci(x - 1) + fibonacci(x - 2)\n",
        "\n",
        "for numero in range(7):\n",
        "    print(\"Fibonacci de \" + str(numero) + \": \" + str(fibonacci(numero)))"
      ]
    },
    {
      "cell_type": "markdown",
      "metadata": {
        "id": "tmEQzfsIxpAy"
      },
      "source": [
        "**Identificar Palindromos**"
      ]
    },
    {
      "cell_type": "code",
      "execution_count": null,
      "metadata": {
        "id": "asYn4KjBxpAy",
        "outputId": "24675425-eaac-4721-c18d-1e3c44cd1376"
      },
      "outputs": [
        {
          "name": "stdout",
          "output_type": "stream",
          "text": [
            "True\n"
          ]
        }
      ],
      "source": [
        "def es_palindromo(frase):\n",
        "\n",
        "    def pre_procesar(frase):\n",
        "        frase = frase.lower()\n",
        "        resultado = ''\n",
        "        for letra in frase:\n",
        "            if letra in 'abcdefghijklmnopqrstuvwxyz':\n",
        "                resultado = resultado + letra\n",
        "        return resultado\n",
        "\n",
        "    def evaluar(frase):\n",
        "        if len(frase) <= 1:\n",
        "            return True\n",
        "        else:\n",
        "            return frase[0] == frase[-1] and evaluar(frase[1:-1])\n",
        "\n",
        "    return evaluar(pre_procesar(frase))\n",
        "\n",
        "print(es_palindromo(\"Yo hago yoga hoy.\"))"
      ]
    },
    {
      "cell_type": "markdown",
      "metadata": {
        "id": "xP46bEPGxpAy"
      },
      "source": [
        "#### 6. RECURSIVIDAD Y DICCIONARIOS\n"
      ]
    },
    {
      "cell_type": "markdown",
      "metadata": {
        "id": "IUvPLPDRxpAy"
      },
      "source": [
        "**Notas por Alumno**\n"
      ]
    },
    {
      "cell_type": "code",
      "execution_count": null,
      "metadata": {
        "id": "fkvdzk_expAy",
        "outputId": "d722a369-6c75-48f4-b173-e8159790afe1"
      },
      "outputs": [
        {
          "name": "stdout",
          "output_type": "stream",
          "text": [
            "('202402', 9.5)\n"
          ]
        }
      ],
      "source": [
        "def obtener_nota(codigo, lista_codigos, lista_nota):\n",
        "    indice = lista_codigos.index(codigo)\n",
        "    nota = lista_nota[indice]\n",
        "\n",
        "    return (codigo, nota)\n",
        "codigos = [\"202401\",\"202402\",\"202403\"]\n",
        "notas = [8.0, 9.5, 10.2]\n",
        "\n",
        "print(obtener_nota(\"202402\", codigos, notas))"
      ]
    },
    {
      "cell_type": "markdown",
      "metadata": {
        "id": "6KBSsbFpxpAy"
      },
      "source": [
        "**Diccionarios en Python**\n"
      ]
    },
    {
      "cell_type": "code",
      "execution_count": null,
      "metadata": {
        "id": "aTl4E__axpAy",
        "outputId": "5cada312-53dd-46bc-eec3-2452b7aea235"
      },
      "outputs": [
        {
          "name": "stdout",
          "output_type": "stream",
          "text": [
            "9.5\n"
          ]
        },
        {
          "ename": "KeyError",
          "evalue": "'202404'",
          "output_type": "error",
          "traceback": [
            "\u001b[1;31m---------------------------------------------------------------------------\u001b[0m",
            "\u001b[1;31mKeyError\u001b[0m                                  Traceback (most recent call last)",
            "Cell \u001b[1;32mIn[40], line 9\u001b[0m\n\u001b[0;32m      3\u001b[0m notas_por_codigo \u001b[38;5;241m=\u001b[39m {\u001b[38;5;124m\"\u001b[39m\u001b[38;5;124m202401\u001b[39m\u001b[38;5;124m\"\u001b[39m: \u001b[38;5;241m8.0\u001b[39m,\n\u001b[0;32m      4\u001b[0m                     \u001b[38;5;124m\"\u001b[39m\u001b[38;5;124m202402\u001b[39m\u001b[38;5;124m\"\u001b[39m: \u001b[38;5;241m9.5\u001b[39m,\n\u001b[0;32m      5\u001b[0m                     \u001b[38;5;124m\"\u001b[39m\u001b[38;5;124m202403\u001b[39m\u001b[38;5;124m\"\u001b[39m: \u001b[38;5;241m10.2\u001b[39m}\n\u001b[0;32m      8\u001b[0m \u001b[38;5;28mprint\u001b[39m(notas_por_codigo[\u001b[38;5;124m\"\u001b[39m\u001b[38;5;124m202402\u001b[39m\u001b[38;5;124m\"\u001b[39m])\n\u001b[1;32m----> 9\u001b[0m \u001b[38;5;28mprint\u001b[39m(\u001b[43mnotas_por_codigo\u001b[49m\u001b[43m[\u001b[49m\u001b[38;5;124;43m\"\u001b[39;49m\u001b[38;5;124;43m202404\u001b[39;49m\u001b[38;5;124;43m\"\u001b[39;49m\u001b[43m]\u001b[49m)\n",
            "\u001b[1;31mKeyError\u001b[0m: '202404'"
          ]
        }
      ],
      "source": [
        "diccionario_vacio = []\n",
        "\n",
        "notas_por_codigo = {\"202401\": 8.0,\n",
        "                    \"202402\": 9.5,\n",
        "                    \"202403\": 10.2}\n",
        "\n",
        "\n",
        "print(notas_por_codigo[\"202402\"])\n",
        "print(notas_por_codigo[\"202404\"])"
      ]
    },
    {
      "cell_type": "markdown",
      "metadata": {
        "id": "VbP_1CS1xpAy"
      },
      "source": [
        "**Operaciones con Diccionarios**\n"
      ]
    },
    {
      "cell_type": "code",
      "execution_count": null,
      "metadata": {
        "id": "XhKtxvj8xpAy",
        "outputId": "1c4e9961-dda7-4cea-fd5e-fc160794fc70"
      },
      "outputs": [
        {
          "name": "stdout",
          "output_type": "stream",
          "text": [
            "False\n",
            "True\n",
            "18.0\n",
            "False\n"
          ]
        }
      ],
      "source": [
        "notas_por_codigo = {\"202401\": 8.0,\n",
        "                    \"202402\": 9.5,\n",
        "                    \"202403\": 10.2}\n",
        "\n",
        "print(\"202404\" in notas_por_codigo)\n",
        "notas_por_codigo[\"202404\"] = 18.0\n",
        "\n",
        "print(\"202404\" in notas_por_codigo)\n",
        "print(notas_por_codigo[\"202404\"])\n",
        "\n",
        "del(notas_por_codigo[\"202404\"])\n",
        "print(\"202404\" in notas_por_codigo)"
      ]
    },
    {
      "cell_type": "code",
      "execution_count": null,
      "metadata": {
        "id": "LXkpQJwcxpAy",
        "outputId": "7eb1d4e0-81da-4f43-dd23-6cc3923c20ae"
      },
      "outputs": [
        {
          "name": "stdout",
          "output_type": "stream",
          "text": [
            "dict_keys(['202401', '202402', '202403'])\n",
            "dict_values([8.0, 9.5, 10.2])\n"
          ]
        }
      ],
      "source": [
        "notas_por_codigo = {\"202401\": 8.0,\n",
        "                    \"202402\": 9.5,\n",
        "                    \"202403\": 10.2}\n",
        "\n",
        "print(notas_por_codigo.keys())\n",
        "print(notas_por_codigo.values())\n"
      ]
    },
    {
      "cell_type": "markdown",
      "metadata": {
        "id": "CbdLvmljxpAy"
      },
      "source": [
        "**Analizando Letras de Canciones**\n"
      ]
    },
    {
      "cell_type": "code",
      "execution_count": null,
      "metadata": {
        "id": "aIhXr8DuxpAz",
        "outputId": "6864f381-a56d-4487-dba2-e6fa1216e5d6"
      },
      "outputs": [
        {
          "name": "stdout",
          "output_type": "stream",
          "text": [
            "{'si': 1, 'ellos': 1, 'están': 1, 'mintiendo,': 1, 'por': 2, 'favor': 2, 'defiéndete': 1, 'yo': 1, 'sé': 1, 'que': 2, 'no': 3, 'lo': 1, 'harás,': 1, 'pues': 1, 'dicen': 1, 'la': 1, 'verdad': 1, 'es': 1, 'una': 1, 'pena': 1, 'siempre': 2, 'seguirás': 1, 'doliéndome': 1, 'y': 1, 'culpable': 2, 'o': 2, '¿qué': 1, 'le': 1, 'puedo': 1, 'hacer': 1, 'ya?': 1, 'miénteme': 3, 'como': 1, 'necesito': 2, 'creerte': 1, 'convénceme': 1, 'con': 1, 'un': 1, 'beso': 1, 'parezca': 1, 'de': 1, 'amor': 1, 'quererte': 1}\n"
          ]
        }
      ],
      "source": [
        "def contar_palabras(lista_palabras):\n",
        "    frecuencias = {}\n",
        "    for palabra in lista_palabras:\n",
        "        if palabra in frecuencias:\n",
        "            frecuencias[palabra] += 1\n",
        "        else:\n",
        "            frecuencias[palabra] = 1\n",
        "\n",
        "    return frecuencias\n",
        "\n",
        "cancion = \"\"\"\n",
        "si ellos están mintiendo, por favor defiéndete\n",
        "yo sé que no lo harás, pues dicen la verdad\n",
        "es una pena siempre seguirás doliéndome\n",
        "y culpable o no\n",
        "¿qué le puedo hacer ya?\n",
        "miénteme como siempre\n",
        "por favor miénteme\n",
        "necesito creerte\n",
        "convénceme\n",
        "miénteme con un beso\n",
        "que parezca de amor\n",
        "necesito quererte\n",
        "culpable o no\n",
        "\"\"\"\n",
        "diccionario_frecuencias = contar_palabras(cancion.split())\n",
        "print(diccionario_frecuencias)"
      ]
    },
    {
      "cell_type": "markdown",
      "metadata": {
        "id": "-N_zRtKcxpAz"
      },
      "source": [
        "**Palabra más frecuente**\n"
      ]
    },
    {
      "cell_type": "code",
      "execution_count": null,
      "metadata": {
        "id": "d97GbI1DxpAz",
        "outputId": "9c0c1292-ab47-497e-b453-204761c2fe10"
      },
      "outputs": [
        {
          "name": "stdout",
          "output_type": "stream",
          "text": [
            "(['no', 'miénteme'], 3)\n"
          ]
        }
      ],
      "source": [
        "diccionario_frecuencias = contar_palabras(cancion.split())\n",
        "\n",
        "def palabra_mas_comun(frecuencia_por_palabra):\n",
        "    frecuencias = frecuencia_por_palabra.values()\n",
        "    maxima_frecuencia = max(frecuencias)\n",
        "    palabras_comunes = []\n",
        "    for palabra in frecuencia_por_palabra:\n",
        "        if frecuencia_por_palabra[palabra] == maxima_frecuencia:\n",
        "            palabras_comunes.append(palabra)\n",
        "\n",
        "    return (palabras_comunes, maxima_frecuencia)\n",
        "\n",
        "palabras_comunes = palabra_mas_comun(diccionario_frecuencias)\n",
        "print(palabras_comunes)"
      ]
    },
    {
      "cell_type": "markdown",
      "metadata": {
        "id": "_WgQ7g3HxpAz"
      },
      "source": [
        "**Palabra que ocurren al menos n veces**\n"
      ]
    },
    {
      "cell_type": "code",
      "execution_count": null,
      "metadata": {
        "id": "a5PwG447xpAz",
        "outputId": "f8080b3c-7bda-4904-e75b-071a29fdf993"
      },
      "outputs": [
        {
          "name": "stdout",
          "output_type": "stream",
          "text": [
            "[(['no', 'miénteme'], 3), (['por', 'favor', 'que', 'siempre', 'culpable', 'o', 'necesito'], 2)]\n"
          ]
        }
      ],
      "source": [
        "def palabras_por_frecuencia(frecuencia_por_palabra, frecuencia_minima):\n",
        "    resultado = []\n",
        "    terminado = False\n",
        "    while not terminado:\n",
        "        palabra_frecuencia = palabra_mas_comun(frecuencia_por_palabra)\n",
        "        if palabra_frecuencia[1] >= frecuencia_minima:\n",
        "            resultado.append(palabra_frecuencia)\n",
        "            for palabra in palabra_frecuencia[0]:\n",
        "                del(frecuencia_por_palabra[palabra])\n",
        "        else:\n",
        "            terminado = True\n",
        "    return resultado\n",
        "\n",
        "al_menos_dos_veces = palabras_por_frecuencia(diccionario_frecuencias, 2)\n",
        "print(al_menos_dos_veces)"
      ]
    },
    {
      "cell_type": "markdown",
      "metadata": {
        "id": "IUVjwzKUxpAz"
      },
      "source": [
        "**Fibonacci Mejorado**\n"
      ]
    },
    {
      "cell_type": "code",
      "execution_count": null,
      "metadata": {
        "id": "J2t9ywXYxpAz",
        "outputId": "c0135aa8-bd6b-41dd-9bdc-a89abb048fdd"
      },
      "outputs": [
        {
          "name": "stdout",
          "output_type": "stream",
          "text": [
            "13\n"
          ]
        }
      ],
      "source": [
        "def fibonacci_mejorado(numero, buffer):\n",
        "    if numero in buffer:\n",
        "        return buffer[numero]\n",
        "    else:\n",
        "        resultado = fibonacci_mejorado(numero - 1, buffer) \\\n",
        "                  + fibonacci_mejorado(numero - 2, buffer)\n",
        "        buffer[numero] = resultado\n",
        "        return resultado\n",
        "\n",
        "buffer = {0: 1,\n",
        "          1: 1}\n",
        "print(fibonacci_mejorado(6, buffer))"
      ]
    },
    {
      "cell_type": "markdown",
      "metadata": {
        "id": "ZynZqGBKxpAz"
      },
      "source": [
        "#### 7. EXCEPCIONES"
      ]
    },
    {
      "cell_type": "markdown",
      "metadata": {
        "id": "29RGZdOwxpAz"
      },
      "source": [
        "* Las excepciones en Python se manejan con bloques *try-except*."
      ]
    },
    {
      "cell_type": "code",
      "execution_count": 1,
      "metadata": {
        "id": "-nR1FAU8xpAz"
      },
      "outputs": [
        {
          "name": "stdout",
          "output_type": "stream",
          "text": [
            "Oops, invalid.\n",
            "We're done with that.\n"
          ]
        }
      ],
      "source": [
        "def exception_function():\n",
        "    \"\"\"Division by zero function that raises an exception.\"\"\"\n",
        "    try:\n",
        "        10 / 0\n",
        "    except ZeroDivisionError:\n",
        "        print(\"Oops, invalid.\")\n",
        "    else:\n",
        "        pass # exception didn't occur, we're good.\n",
        "    finally:\n",
        "        print(\"We're done with that.\")\n",
        "\n",
        "exception_function()"
      ]
    },
    {
      "cell_type": "code",
      "execution_count": 2,
      "metadata": {
        "id": "6rtExsEKxpAz",
        "outputId": "10fc7601-8c14-4ca4-e7a3-ca842bf75db6"
      },
      "outputs": [
        {
          "ename": "ValueError",
          "evalue": "invalid literal for int() with base 10: 'nueve'",
          "output_type": "error",
          "traceback": [
            "\u001b[1;31m---------------------------------------------------------------------------\u001b[0m",
            "\u001b[1;31mValueError\u001b[0m                                Traceback (most recent call last)",
            "Cell \u001b[1;32mIn[2], line 1\u001b[0m\n\u001b[1;32m----> 1\u001b[0m un_numero \u001b[38;5;241m=\u001b[39m \u001b[38;5;28;43mint\u001b[39;49m\u001b[43m(\u001b[49m\u001b[38;5;28;43minput\u001b[39;49m\u001b[43m(\u001b[49m\u001b[38;5;124;43m\"\u001b[39;49m\u001b[38;5;124;43mIngrese un numero:\u001b[39;49m\u001b[38;5;124;43m\"\u001b[39;49m\u001b[43m)\u001b[49m\u001b[43m)\u001b[49m\n\u001b[0;32m      2\u001b[0m otro_numero \u001b[38;5;241m=\u001b[39m \u001b[38;5;28mint\u001b[39m(\u001b[38;5;28minput\u001b[39m(\u001b[38;5;124m\"\u001b[39m\u001b[38;5;124mIngrese otro numero:\u001b[39m\u001b[38;5;124m\"\u001b[39m))\n\u001b[0;32m      3\u001b[0m \u001b[38;5;28mprint\u001b[39m(\u001b[38;5;124m\"\u001b[39m\u001b[38;5;124mEl conciente es: \u001b[39m\u001b[38;5;124m\"\u001b[39m,un_numero \u001b[38;5;241m/\u001b[39m otro_numero)\n",
            "\u001b[1;31mValueError\u001b[0m: invalid literal for int() with base 10: 'nueve'"
          ]
        }
      ],
      "source": [
        "un_numero = int(input(\"Ingrese un numero:\"))\n",
        "otro_numero = int(input(\"Ingrese otro numero:\"))\n",
        "print(\"El conciente es: \",un_numero / otro_numero)\n",
        "\n",
        "print(\"Bug en la entrada de usuario.\")"
      ]
    },
    {
      "cell_type": "markdown",
      "metadata": {
        "id": "7fOwEXdyxpAz"
      },
      "source": [
        "**Manejo de Excepciones**\n"
      ]
    },
    {
      "cell_type": "code",
      "execution_count": 3,
      "metadata": {
        "id": "RCDl3MHZxpAz",
        "outputId": "689f3a77-4ab3-46b5-d22a-214fc92d687a"
      },
      "outputs": [
        {
          "name": "stdout",
          "output_type": "stream",
          "text": [
            "Se ha producido un error\n",
            "Despues de la excepcion\n"
          ]
        }
      ],
      "source": [
        "try:\n",
        "    un_numero = int(input(\"Ingrese un numero:\"))\n",
        "    otro_numero = int(input(\"Ingrese otro numero:\"))\n",
        "    print(\"El conciente es: \",un_numero / otro_numero)\n",
        "except:\n",
        "    print(\"Se ha producido un error\")\n",
        "\n",
        "print(\"Despues de la excepcion\")"
      ]
    },
    {
      "cell_type": "code",
      "execution_count": 7,
      "metadata": {
        "id": "mCrNOIvrxpAz",
        "outputId": "346dea27-5505-4072-9c3c-d3145696194a"
      },
      "outputs": [
        {
          "name": "stdout",
          "output_type": "stream",
          "text": [
            "No es posible convertir factor un numero\n"
          ]
        }
      ],
      "source": [
        "try:\n",
        "    un_numero = int(input(\"Ingrese un numero:\"))\n",
        "    otro_numero = int(input(\"Ingrese otro numero:\"))\n",
        "    print(\"El conciente es: \",un_numero / otro_numero)\n",
        "\n",
        "except ValueError:\n",
        "    print(\"No es posible convertir factor un numero\")\n",
        "except ZeroDivisionError:\n",
        "    print(\"No es posible dividir entre cero\")\n",
        "except:\n",
        "    print(\"Error inesperado\")\n"
      ]
    },
    {
      "cell_type": "markdown",
      "metadata": {
        "id": "G0C-yBHmxpAz"
      },
      "source": [
        "**Lanzar Excepciones**\n"
      ]
    },
    {
      "cell_type": "code",
      "execution_count": 8,
      "metadata": {
        "id": "ZlOqmbflxpAz",
        "outputId": "96a30a67-f0f2-4ea7-c9ff-8af92aca5a26"
      },
      "outputs": [
        {
          "name": "stdout",
          "output_type": "stream",
          "text": [
            "[nan, 2.0, 0.5]\n"
          ]
        },
        {
          "ename": "ValueError",
          "evalue": "Error en dividir las listas",
          "output_type": "error",
          "traceback": [
            "\u001b[1;31m---------------------------------------------------------------------------\u001b[0m",
            "\u001b[1;31mIndexError\u001b[0m                                Traceback (most recent call last)",
            "Cell \u001b[1;32mIn[8], line 5\u001b[0m, in \u001b[0;36mdividir_listas\u001b[1;34m(una_lista, otra_lista)\u001b[0m\n\u001b[0;32m      4\u001b[0m \u001b[38;5;28;01mtry\u001b[39;00m:\n\u001b[1;32m----> 5\u001b[0m     resultado\u001b[38;5;241m.\u001b[39mappend(una_lista[indice] \u001b[38;5;241m/\u001b[39m \u001b[43motra_lista\u001b[49m\u001b[43m[\u001b[49m\u001b[43mindice\u001b[49m\u001b[43m]\u001b[49m)\n\u001b[0;32m      6\u001b[0m \u001b[38;5;28;01mexcept\u001b[39;00m \u001b[38;5;167;01mZeroDivisionError\u001b[39;00m:\n",
            "\u001b[1;31mIndexError\u001b[0m: list index out of range",
            "\nDuring handling of the above exception, another exception occurred:\n",
            "\u001b[1;31mValueError\u001b[0m                                Traceback (most recent call last)",
            "Cell \u001b[1;32mIn[8], line 17\u001b[0m\n\u001b[0;32m     14\u001b[0m segunda_lista \u001b[38;5;241m=\u001b[39m [\u001b[38;5;241m3\u001b[39m, \u001b[38;5;241m2\u001b[39m, \u001b[38;5;241m1\u001b[39m]\n\u001b[0;32m     16\u001b[0m \u001b[38;5;28mprint\u001b[39m(dividir_listas(segunda_lista, primera_lista))\n\u001b[1;32m---> 17\u001b[0m \u001b[38;5;28mprint\u001b[39m(\u001b[43mdividir_listas\u001b[49m\u001b[43m(\u001b[49m\u001b[43msegunda_lista\u001b[49m\u001b[43m,\u001b[49m\u001b[43m \u001b[49m\u001b[43mprimera_lista\u001b[49m\u001b[43m[\u001b[49m\u001b[38;5;241;43m1\u001b[39;49m\u001b[43m:\u001b[49m\u001b[43m]\u001b[49m\u001b[43m)\u001b[49m)\n",
            "Cell \u001b[1;32mIn[8], line 9\u001b[0m, in \u001b[0;36mdividir_listas\u001b[1;34m(una_lista, otra_lista)\u001b[0m\n\u001b[0;32m      7\u001b[0m         resultado\u001b[38;5;241m.\u001b[39mappend(\u001b[38;5;28mfloat\u001b[39m(\u001b[38;5;124m'\u001b[39m\u001b[38;5;124mnan\u001b[39m\u001b[38;5;124m'\u001b[39m))  \u001b[38;5;66;03m# nan = Not factor Number\u001b[39;00m\n\u001b[0;32m      8\u001b[0m     \u001b[38;5;28;01mexcept\u001b[39;00m:\n\u001b[1;32m----> 9\u001b[0m         \u001b[38;5;28;01mraise\u001b[39;00m \u001b[38;5;167;01mValueError\u001b[39;00m(\u001b[38;5;124m'\u001b[39m\u001b[38;5;124mError en dividir las listas\u001b[39m\u001b[38;5;124m'\u001b[39m)\n\u001b[0;32m     11\u001b[0m \u001b[38;5;28;01mreturn\u001b[39;00m resultado\n",
            "\u001b[1;31mValueError\u001b[0m: Error en dividir las listas"
          ]
        }
      ],
      "source": [
        "def dividir_listas(una_lista, otra_lista):\n",
        "    resultado = []\n",
        "    for indice in range(len(una_lista)):\n",
        "        try:\n",
        "            resultado.append(una_lista[indice] / otra_lista[indice])\n",
        "        except ZeroDivisionError:\n",
        "            resultado.append(float('nan'))  # nan = Not factor Number\n",
        "        except:\n",
        "            raise ValueError('Error en dividir las listas')\n",
        "\n",
        "    return resultado\n",
        "\n",
        "primera_lista = [0, 1, 2]\n",
        "segunda_lista = [3, 2, 1]\n",
        "\n",
        "print(dividir_listas(segunda_lista, primera_lista))\n",
        "print(dividir_listas(segunda_lista, primera_lista[1:]))"
      ]
    },
    {
      "cell_type": "markdown",
      "metadata": {
        "id": "3p89eDHrxpAz"
      },
      "source": [
        "**Promedio de Prácticas**\n"
      ]
    },
    {
      "cell_type": "code",
      "execution_count": null,
      "metadata": {
        "id": "HmWDAecDxpA0",
        "outputId": "830fbc73-ed3e-44ea-fbeb-14b186393bd9"
      },
      "outputs": [
        {
          "ename": "ZeroDivisionError",
          "evalue": "division by zero",
          "output_type": "error",
          "traceback": [
            "\u001b[1;31m---------------------------------------------------------------------------\u001b[0m",
            "\u001b[1;31mZeroDivisionError\u001b[0m                         Traceback (most recent call last)",
            "Cell \u001b[1;32mIn[53], line 22\u001b[0m\n\u001b[0;32m     15\u001b[0m         \u001b[38;5;28;01mreturn\u001b[39;00m \u001b[38;5;28msum\u001b[39m(grades) \u001b[38;5;241m/\u001b[39m \u001b[38;5;28mlen\u001b[39m(grades)\n\u001b[0;32m     18\u001b[0m notas_algo \u001b[38;5;241m=\u001b[39m [[[\u001b[38;5;124m'\u001b[39m\u001b[38;5;124mPaolo\u001b[39m\u001b[38;5;124m'\u001b[39m, \u001b[38;5;124m'\u001b[39m\u001b[38;5;124mGuerrero\u001b[39m\u001b[38;5;124m'\u001b[39m], [\u001b[38;5;241m10\u001b[39m, \u001b[38;5;241m10\u001b[39m, \u001b[38;5;241m10\u001b[39m]],\n\u001b[0;32m     19\u001b[0m               [[\u001b[38;5;124m'\u001b[39m\u001b[38;5;124mAndres\u001b[39m\u001b[38;5;124m'\u001b[39m, \u001b[38;5;124m'\u001b[39m\u001b[38;5;124mHurtado\u001b[39m\u001b[38;5;124m'\u001b[39m], [\u001b[38;5;241m10\u001b[39m, \u001b[38;5;241m5\u001b[39m, \u001b[38;5;241m12\u001b[39m]],\n\u001b[0;32m     20\u001b[0m               [[\u001b[38;5;124m'\u001b[39m\u001b[38;5;124mWaldir\u001b[39m\u001b[38;5;124m'\u001b[39m, \u001b[38;5;124m'\u001b[39m\u001b[38;5;124mSaenz\u001b[39m\u001b[38;5;124m'\u001b[39m], []]]\n\u001b[1;32m---> 22\u001b[0m \u001b[38;5;28mprint\u001b[39m(\u001b[43mincluir_promedio\u001b[49m\u001b[43m(\u001b[49m\u001b[43mnotas_algo\u001b[49m\u001b[43m)\u001b[49m)\n",
            "Cell \u001b[1;32mIn[53], line 9\u001b[0m, in \u001b[0;36mincluir_promedio\u001b[1;34m(nota_practicas)\u001b[0m\n\u001b[0;32m      4\u001b[0m     alumno \u001b[38;5;241m=\u001b[39m alumno_notas[\u001b[38;5;241m0\u001b[39m]\n\u001b[0;32m      5\u001b[0m     notas \u001b[38;5;241m=\u001b[39m alumno_notas[\u001b[38;5;241m1\u001b[39m]\n\u001b[0;32m      6\u001b[0m     notas_promedio\u001b[38;5;241m.\u001b[39mappend([\n\u001b[0;32m      7\u001b[0m         alumno,\n\u001b[0;32m      8\u001b[0m         notas,\n\u001b[1;32m----> 9\u001b[0m         \u001b[43mcalcular_promedio\u001b[49m\u001b[43m(\u001b[49m\u001b[43mnotas\u001b[49m\u001b[43m)\u001b[49m]\n\u001b[0;32m     10\u001b[0m     )\n\u001b[0;32m     11\u001b[0m \u001b[38;5;28;01mreturn\u001b[39;00m notas_promedio\n",
            "Cell \u001b[1;32mIn[53], line 15\u001b[0m, in \u001b[0;36mcalcular_promedio\u001b[1;34m(grades)\u001b[0m\n\u001b[0;32m     14\u001b[0m \u001b[38;5;28;01mdef\u001b[39;00m \u001b[38;5;21mcalcular_promedio\u001b[39m(grades):\n\u001b[1;32m---> 15\u001b[0m         \u001b[38;5;28;01mreturn\u001b[39;00m \u001b[38;5;28;43msum\u001b[39;49m\u001b[43m(\u001b[49m\u001b[43mgrades\u001b[49m\u001b[43m)\u001b[49m\u001b[43m \u001b[49m\u001b[38;5;241;43m/\u001b[39;49m\u001b[43m \u001b[49m\u001b[38;5;28;43mlen\u001b[39;49m\u001b[43m(\u001b[49m\u001b[43mgrades\u001b[49m\u001b[43m)\u001b[49m\n",
            "\u001b[1;31mZeroDivisionError\u001b[0m: division by zero"
          ]
        }
      ],
      "source": [
        "def incluir_promedio(nota_practicas):\n",
        "    notas_promedio = []\n",
        "    for alumno_notas in nota_practicas:\n",
        "        alumno = alumno_notas[0]\n",
        "        notas = alumno_notas[1]\n",
        "        notas_promedio.append([\n",
        "            alumno,\n",
        "            notas,\n",
        "            calcular_promedio(notas)]\n",
        "        )\n",
        "    return notas_promedio\n",
        "\n",
        "\n",
        "def calcular_promedio(grades):\n",
        "        return sum(grades) / len(grades)\n",
        "\n",
        "\n",
        "notas_algo = [[['Paolo', 'Guerrero'], [10, 10, 10]],\n",
        "              [['Andres', 'Hurtado'], [10, 5, 12]],\n",
        "              [['Waldir', 'Saenz'], []]]\n",
        "\n",
        "print(incluir_promedio(notas_algo))\n"
      ]
    },
    {
      "cell_type": "code",
      "execution_count": null,
      "metadata": {
        "id": "87uh3ooOxpA0",
        "outputId": "14b21b3e-d861-4a93-8232-1ef87a7171ea"
      },
      "outputs": [
        {
          "name": "stdout",
          "output_type": "stream",
          "text": [
            "Alerta: no existen notas\n",
            "[[['Paolo', 'Guerrero'], [10, 10, 10], 10.0], [['Andres', 'Hurtado'], [10, 5, 12], 9.0], [['Waldir', 'Saenz'], [], 0.0]]\n"
          ]
        }
      ],
      "source": [
        "def incluir_promedio(nota_practicas):\n",
        "    notas_promedio = []\n",
        "    for alumno_notas in nota_practicas:\n",
        "        alumno = alumno_notas[0]\n",
        "        notas = alumno_notas[1]\n",
        "        notas_promedio.append([\n",
        "            alumno,\n",
        "            notas,\n",
        "            calcular_promedio(notas)]\n",
        "        )\n",
        "    return notas_promedio\n",
        "\n",
        "\n",
        "def calcular_promedio(notas):\n",
        "    try:\n",
        "        return sum(notas) / len(notas)\n",
        "    except ZeroDivisionError:\n",
        "        print('Alerta: no existen notas')\n",
        "        return 0.0\n",
        "\n",
        "notas_algo = [[['Paolo', 'Guerrero'], [10, 10, 10]],\n",
        "              [['Andres', 'Hurtado'], [10, 5, 12]],\n",
        "              [['Waldir', 'Saenz'], []]]\n",
        "\n",
        "print(incluir_promedio(notas_algo))\n"
      ]
    },
    {
      "cell_type": "code",
      "execution_count": null,
      "metadata": {
        "id": "CrA_5YKixpA0"
      },
      "outputs": [],
      "source": [
        "import traceback\n",
        "\n",
        "def main():\n",
        "    try:\n",
        "        metodo_que_lanza_excepcion()\n",
        "    except Exception as e:\n",
        "        print(\"Se ha capturado una excepción en main:\", str(e))\n",
        "        traceback.print_exc()  # Imprime el stack trace de la excepción\n",
        "\n",
        "def metodo_que_lanza_excepcion():\n",
        "    try:\n",
        "        # Código que puede lanzar una excepción\n",
        "        resultado = 10 / 0  # Esto lanzará una excepción ZeroDivisionError\n",
        "    except Exception as e:\n",
        "        print(\"Error capturado en metodo_que_lanza_excepcion:\", str(e))\n",
        "        traceback.print_exc()  # Imprime el stack trace de la excepción\n",
        "        raise  # Relanza la excepción para que sea manejada más arriba\n",
        "\n",
        "if __name__ == \"__main__\":\n",
        "    main()\n"
      ]
    },
    {
      "cell_type": "code",
      "execution_count": null,
      "metadata": {
        "id": "Z2EWvrmGxpA0"
      },
      "outputs": [],
      "source": [
        "import traceback\n",
        "\n",
        "def main():\n",
        "    try:\n",
        "        # Código que puede lanzar una excepción\n",
        "        resultado = 10 / 0  # Esto lanzará una excepción ZeroDivisionError\n",
        "    except Exception as e:\n",
        "        # Manejo de la excepción\n",
        "        print(\"Se ha producido un error:\", str(e))\n",
        "        traceback.print_exc()  # Imprime el stack trace de la excepción\n",
        "\n",
        "if __name__ == \"__main__\":\n",
        "    main()\n"
      ]
    },
    {
      "cell_type": "code",
      "execution_count": null,
      "metadata": {
        "id": "ND7m6ky-xpA0"
      },
      "outputs": [],
      "source": [
        "def dividir(a, b):\n",
        "    try:\n",
        "        resultado = a / b\n",
        "    except ZeroDivisionError as e:\n",
        "        print(\"Error: No se puede dividir por cero.\")\n",
        "    else:\n",
        "        # Este bloque se ejecuta solo si no hay excepción\n",
        "        print(\"La división fue exitosa. El resultado es:\", resultado)\n",
        "\n",
        "# Ejemplo de uso\n",
        "dividir(10, 2)  # División sin errores, ejecuta el bloque else\n",
        "dividir(10, 0)  # Genera ZeroDivisionError, no ejecuta el bloque else\n"
      ]
    },
    {
      "cell_type": "markdown",
      "metadata": {
        "id": "-kgJgsvZxpA0"
      },
      "source": [
        "**Aserciones**\n"
      ]
    },
    {
      "cell_type": "code",
      "execution_count": 1,
      "metadata": {
        "id": "y7EhGzo8xpA0",
        "outputId": "e29fb588-a508-4a99-bbfb-4dcb2a546ce5"
      },
      "outputs": [
        {
          "ename": "AssertionError",
          "evalue": "No existen notas",
          "output_type": "error",
          "traceback": [
            "\u001b[1;31m---------------------------------------------------------------------------\u001b[0m",
            "\u001b[1;31mAssertionError\u001b[0m                            Traceback (most recent call last)",
            "Cell \u001b[1;32mIn[1], line 22\u001b[0m\n\u001b[0;32m     16\u001b[0m     \u001b[38;5;28;01mreturn\u001b[39;00m \u001b[38;5;28msum\u001b[39m(notas) \u001b[38;5;241m/\u001b[39m \u001b[38;5;28mlen\u001b[39m(notas)\n\u001b[0;32m     18\u001b[0m notas_algo \u001b[38;5;241m=\u001b[39m [[[\u001b[38;5;124m'\u001b[39m\u001b[38;5;124mPaolo\u001b[39m\u001b[38;5;124m'\u001b[39m, \u001b[38;5;124m'\u001b[39m\u001b[38;5;124mGuerrero\u001b[39m\u001b[38;5;124m'\u001b[39m], [\u001b[38;5;241m10\u001b[39m, \u001b[38;5;241m10\u001b[39m, \u001b[38;5;241m10\u001b[39m]],\n\u001b[0;32m     19\u001b[0m               [[\u001b[38;5;124m'\u001b[39m\u001b[38;5;124mAndres\u001b[39m\u001b[38;5;124m'\u001b[39m, \u001b[38;5;124m'\u001b[39m\u001b[38;5;124mHurtado\u001b[39m\u001b[38;5;124m'\u001b[39m], [\u001b[38;5;241m10\u001b[39m, \u001b[38;5;241m5\u001b[39m, \u001b[38;5;241m12\u001b[39m]],\n\u001b[0;32m     20\u001b[0m               [[\u001b[38;5;124m'\u001b[39m\u001b[38;5;124mWaldir\u001b[39m\u001b[38;5;124m'\u001b[39m, \u001b[38;5;124m'\u001b[39m\u001b[38;5;124mSaenz\u001b[39m\u001b[38;5;124m'\u001b[39m], []]]\n\u001b[1;32m---> 22\u001b[0m \u001b[38;5;28mprint\u001b[39m(\u001b[43mincluir_promedio\u001b[49m\u001b[43m(\u001b[49m\u001b[43mnotas_algo\u001b[49m\u001b[43m)\u001b[49m)\n",
            "Cell \u001b[1;32mIn[1], line 9\u001b[0m, in \u001b[0;36mincluir_promedio\u001b[1;34m(nota_practicas)\u001b[0m\n\u001b[0;32m      4\u001b[0m     alumno \u001b[38;5;241m=\u001b[39m alumno_notas[\u001b[38;5;241m0\u001b[39m]\n\u001b[0;32m      5\u001b[0m     notas \u001b[38;5;241m=\u001b[39m alumno_notas[\u001b[38;5;241m1\u001b[39m]\n\u001b[0;32m      6\u001b[0m     notas_promedio\u001b[38;5;241m.\u001b[39mappend([\n\u001b[0;32m      7\u001b[0m         alumno,\n\u001b[0;32m      8\u001b[0m         notas,\n\u001b[1;32m----> 9\u001b[0m         \u001b[43mcalcular_promedio\u001b[49m\u001b[43m(\u001b[49m\u001b[43mnotas\u001b[49m\u001b[43m)\u001b[49m]\n\u001b[0;32m     10\u001b[0m     )\n\u001b[0;32m     11\u001b[0m \u001b[38;5;28;01mreturn\u001b[39;00m notas_promedio\n",
            "Cell \u001b[1;32mIn[1], line 15\u001b[0m, in \u001b[0;36mcalcular_promedio\u001b[1;34m(notas)\u001b[0m\n\u001b[0;32m     14\u001b[0m \u001b[38;5;28;01mdef\u001b[39;00m \u001b[38;5;21mcalcular_promedio\u001b[39m(notas):\n\u001b[1;32m---> 15\u001b[0m     \u001b[38;5;28;01massert\u001b[39;00m \u001b[38;5;28mlen\u001b[39m(notas) \u001b[38;5;241m!=\u001b[39m \u001b[38;5;241m0\u001b[39m, \u001b[38;5;124m'\u001b[39m\u001b[38;5;124mNo existen notas\u001b[39m\u001b[38;5;124m'\u001b[39m\n\u001b[0;32m     16\u001b[0m     \u001b[38;5;28;01mreturn\u001b[39;00m \u001b[38;5;28msum\u001b[39m(notas) \u001b[38;5;241m/\u001b[39m \u001b[38;5;28mlen\u001b[39m(notas)\n",
            "\u001b[1;31mAssertionError\u001b[0m: No existen notas"
          ]
        }
      ],
      "source": [
        "def incluir_promedio(nota_practicas):\n",
        "    notas_promedio = []\n",
        "    for alumno_notas in nota_practicas:\n",
        "        alumno = alumno_notas[0]\n",
        "        notas = alumno_notas[1]\n",
        "        notas_promedio.append([\n",
        "            alumno,\n",
        "            notas,\n",
        "            calcular_promedio(notas)]\n",
        "        )\n",
        "    return notas_promedio\n",
        "\n",
        "\n",
        "def calcular_promedio(notas):\n",
        "    assert len(notas) != 0, 'No existen notas'\n",
        "    return sum(notas) / len(notas)\n",
        "\n",
        "notas_algo = [[['Paolo', 'Guerrero'], [10, 10, 10]],\n",
        "              [['Andres', 'Hurtado'], [10, 5, 12]],\n",
        "              [['Waldir', 'Saenz'], []]]\n",
        "\n",
        "print(incluir_promedio(notas_algo))\n"
      ]
    },
    {
      "cell_type": "markdown",
      "metadata": {
        "id": "j6g-Tk8DxuFX"
      },
      "source": [
        "## Sets "
      ]
    },
    {
      "cell_type": "markdown",
      "metadata": {
        "id": "rJAjxO0sxq5x"
      },
      "source": [
        "Un set es:\n",
        "\n",
        "Una colección no ordenada de elementos únicos.\n",
        "\n",
        "Mutables (puedes agregar y eliminar elementos).\n",
        "\n",
        "No indexables (no puedes hacer mi_set[0]).\n",
        "\n"
      ]
    },
    {
      "cell_type": "code",
      "execution_count": 21,
      "metadata": {
        "colab": {
          "base_uri": "https://localhost:8080/"
        },
        "id": "rDd2b0Acx6pg",
        "outputId": "c061dec0-145a-4760-a28e-65020e55e6ef"
      },
      "outputs": [
        {
          "name": "stdout",
          "output_type": "stream",
          "text": [
            "<class 'set'>\n"
          ]
        },
        {
          "data": {
            "text/plain": [
              "{1, 2, 3, 5}"
            ]
          },
          "execution_count": 21,
          "metadata": {},
          "output_type": "execute_result"
        }
      ],
      "source": [
        "mi_set = {1, 2, 3,2,5}\n",
        "print(type(mi_set))  # <class 'set'>\n",
        "mi_set"
      ]
    },
    {
      "cell_type": "code",
      "execution_count": 34,
      "metadata": {
        "colab": {
          "base_uri": "https://localhost:8080/"
        },
        "id": "5rqud44EyAz3",
        "outputId": "773c24c6-2961-41ce-83fe-a38a982ddb8e"
      },
      "outputs": [
        {
          "name": "stdout",
          "output_type": "stream",
          "text": [
            "{1, 2, 3, 4}\n"
          ]
        }
      ],
      "source": [
        "mi_set = set([1, 2, 2, 3, 4])\n",
        "print(mi_set)  # {1, 2, 3, 4}\n",
        "\n"
      ]
    },
    {
      "cell_type": "markdown",
      "metadata": {
        "id": "c3sTyfMCyI9D"
      },
      "source": [
        "**Conjunto Vacio:** {} por sí solo crea un diccionario, no un conjunto vacío. Para un conjunto vacío debes usar:"
      ]
    },
    {
      "cell_type": "code",
      "execution_count": 23,
      "metadata": {
        "id": "J2QG7mH2yH5E"
      },
      "outputs": [],
      "source": [
        "conjunto_vacio = set()"
      ]
    },
    {
      "cell_type": "markdown",
      "metadata": {
        "id": "dLab4dU2x3YJ"
      },
      "source": []
    },
    {
      "cell_type": "markdown",
      "metadata": {
        "id": "6P9FeAwbyTCn"
      },
      "source": [
        "**Métodos y operaciones comunes**"
      ]
    },
    {
      "cell_type": "markdown",
      "metadata": {
        "id": "Z_GENH1VyYFe"
      },
      "source": [
        " Añadir y eliminar"
      ]
    },
    {
      "cell_type": "code",
      "execution_count": 35,
      "metadata": {
        "id": "g_7rH7c-yVLI"
      },
      "outputs": [],
      "source": [
        "s = {1, 2}\n",
        "s.add(3)            # s = {1, 2, 3}\n",
        "s.remove(2)         # s = {1, 3}\n",
        "s.discard(4)        # no error si 4 no está\n",
        "#s.clear()           # s = set()"
      ]
    },
    {
      "cell_type": "code",
      "execution_count": 36,
      "metadata": {},
      "outputs": [
        {
          "data": {
            "text/plain": [
              "{1, 3}"
            ]
          },
          "execution_count": 36,
          "metadata": {},
          "output_type": "execute_result"
        }
      ],
      "source": [
        "s"
      ]
    },
    {
      "cell_type": "code",
      "execution_count": 39,
      "metadata": {},
      "outputs": [],
      "source": [
        "s.clear()"
      ]
    },
    {
      "cell_type": "code",
      "execution_count": 40,
      "metadata": {},
      "outputs": [
        {
          "data": {
            "text/plain": [
              "set()"
            ]
          },
          "execution_count": 40,
          "metadata": {},
          "output_type": "execute_result"
        }
      ],
      "source": [
        "s"
      ]
    },
    {
      "cell_type": "markdown",
      "metadata": {
        "id": "IhTTGHK7yav4"
      },
      "source": [
        "Verificar membresía"
      ]
    },
    {
      "cell_type": "code",
      "execution_count": 41,
      "metadata": {
        "colab": {
          "base_uri": "https://localhost:8080/"
        },
        "id": "-XUmihWfybpK",
        "outputId": "92c4b678-4cb0-47be-b892-9746f7a10e2b"
      },
      "outputs": [
        {
          "name": "stdout",
          "output_type": "stream",
          "text": [
            "True\n",
            "False\n"
          ]
        }
      ],
      "source": [
        "s = {1, 2, 3}\n",
        "print(2 in s)       # True\n",
        "print(5 in s)       # False"
      ]
    },
    {
      "cell_type": "markdown",
      "metadata": {
        "id": "Lwo8MdhoylzA"
      },
      "source": [
        "**Operaciones de conjunto**"
      ]
    },
    {
      "cell_type": "markdown",
      "metadata": {
        "id": "_jHkz0Rjyo7t"
      },
      "source": [
        "Dadas dos conjuntos:"
      ]
    },
    {
      "cell_type": "code",
      "execution_count": 42,
      "metadata": {
        "id": "AB91cgWuytZu"
      },
      "outputs": [],
      "source": [
        "A = {1, 2, 3, 4}\n",
        "B = {3, 4, 5, 6}"
      ]
    },
    {
      "cell_type": "markdown",
      "metadata": {
        "id": "sjHGqGxxyrsB"
      },
      "source": [
        "Unión"
      ]
    },
    {
      "cell_type": "code",
      "execution_count": 43,
      "metadata": {
        "colab": {
          "base_uri": "https://localhost:8080/"
        },
        "id": "y7DpTH_SzJV7",
        "outputId": "5fef6d2d-377c-44c9-c1e0-426829ee7b51"
      },
      "outputs": [
        {
          "name": "stdout",
          "output_type": "stream",
          "text": [
            "{1, 2, 3, 4, 5, 6}\n",
            "{1, 2, 3, 4, 5, 6}\n"
          ]
        }
      ],
      "source": [
        "print(A | B)         # {1, 2, 3, 4, 5, 6}\n",
        "print(A.union(B))    # Igual que arriba"
      ]
    },
    {
      "cell_type": "markdown",
      "metadata": {
        "id": "n6kNiCWvzP4K"
      },
      "source": [
        "Intersección"
      ]
    },
    {
      "cell_type": "code",
      "execution_count": 44,
      "metadata": {
        "colab": {
          "base_uri": "https://localhost:8080/"
        },
        "id": "Cn5G84kRzQ09",
        "outputId": "d9ec201b-8d25-4780-e4a1-e439113d7ae1"
      },
      "outputs": [
        {
          "name": "stdout",
          "output_type": "stream",
          "text": [
            "{3, 4}\n",
            "{3, 4}\n"
          ]
        }
      ],
      "source": [
        "print(A & B)         # {3, 4}\n",
        "print(A.intersection(B))"
      ]
    },
    {
      "cell_type": "markdown",
      "metadata": {
        "id": "ncAv0MUrzV6l"
      },
      "source": [
        "Diferencia"
      ]
    },
    {
      "cell_type": "code",
      "execution_count": 45,
      "metadata": {
        "colab": {
          "base_uri": "https://localhost:8080/"
        },
        "id": "ev23XIsIzVVd",
        "outputId": "2112cded-869c-4e34-fade-5226bfc8b282"
      },
      "outputs": [
        {
          "name": "stdout",
          "output_type": "stream",
          "text": [
            "{1, 2}\n",
            "{1, 2}\n"
          ]
        }
      ],
      "source": [
        "print(A - B)         # {1, 2}\n",
        "print(A.difference(B))"
      ]
    },
    {
      "cell_type": "markdown",
      "metadata": {
        "id": "NMqfQez8zVIN"
      },
      "source": [
        "Diferencia simétrica (elementos en uno u otro, pero no en ambos)\n"
      ]
    },
    {
      "cell_type": "code",
      "execution_count": 31,
      "metadata": {
        "colab": {
          "base_uri": "https://localhost:8080/"
        },
        "id": "KRAh1P1Gzb-H",
        "outputId": "9dde9a9e-c00b-499a-8cb2-67a1392a5050"
      },
      "outputs": [
        {
          "name": "stdout",
          "output_type": "stream",
          "text": [
            "{1, 2, 5, 6}\n",
            "{1, 2, 5, 6}\n"
          ]
        }
      ],
      "source": [
        "print(A ^ B)         # {1, 2, 5, 6}\n",
        "print(A.symmetric_difference(B))"
      ]
    },
    {
      "cell_type": "code",
      "execution_count": 46,
      "metadata": {
        "colab": {
          "base_uri": "https://localhost:8080/"
        },
        "id": "-1sx40vw0wEo",
        "outputId": "f5e6f927-ae46-4225-895d-6b8232094f32"
      },
      "outputs": [
        {
          "name": "stdout",
          "output_type": "stream",
          "text": [
            "perro → hash: 3686881209174650246\n",
            "gato → hash: -8288933289326633242\n",
            "ratón → hash: 5750664403832888269\n",
            "conejo → hash: 7935155532688142622\n"
          ]
        }
      ],
      "source": [
        "elementos = [\"perro\", \"gato\", \"ratón\", \"conejo\"]\n",
        "for e in elementos:\n",
        "    print(f\"{e} → hash: {hash(e)}\")"
      ]
    }
  ],
  "metadata": {
    "anaconda-cloud": {},
    "celltoolbar": "Slideshow",
    "colab": {
      "provenance": []
    },
    "kernelspec": {
      "display_name": "base",
      "language": "python",
      "name": "python3"
    },
    "language_info": {
      "codemirror_mode": {
        "name": "ipython",
        "version": 3
      },
      "file_extension": ".py",
      "mimetype": "text/x-python",
      "name": "python",
      "nbconvert_exporter": "python",
      "pygments_lexer": "ipython3",
      "version": "3.10.14"
    }
  },
  "nbformat": 4,
  "nbformat_minor": 0
}
